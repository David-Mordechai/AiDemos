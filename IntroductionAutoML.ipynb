{
 "cells": [
  {
   "cell_type": "markdown",
   "metadata": {},
   "source": [
    "# Introduction to Automated Machine Learning (AutoML)\n",
    "\n",
    "This sample shows how you can use AutoML to automate the process of training custom ML models.\n",
    "\n",
    "In this case, we want to train an ML model that automatically applies a label to GitHub issues."
   ]
  },
  {
   "cell_type": "markdown",
   "metadata": {},
   "source": [
    "## Install NuGet packages"
   ]
  },
  {
   "cell_type": "code",
   "execution_count": 1,
   "metadata": {
    "dotnet_interactive": {
     "language": "csharp"
    },
    "polyglot_notebook": {
     "kernelName": "csharp"
    },
    "vscode": {
     "languageId": "polyglot-notebook"
    }
   },
   "outputs": [
    {
     "data": {
      "text/html": [
       "<div><div></div><div></div><div><strong>Installed Packages</strong><ul><li><span>Microsoft.ML.AutoML, 0.22.2</span></li></ul></div></div>"
      ]
     },
     "metadata": {},
     "output_type": "display_data"
    },
    {
     "data": {
      "text/plain": [
       "Loading extensions from `C:\\Users\\davidm\\.nuget\\packages\\microsoft.ml.automl\\0.22.2\\interactive-extensions\\dotnet\\Microsoft.ML.AutoML.Interactive.dll`"
      ]
     },
     "metadata": {},
     "output_type": "display_data"
    },
    {
     "data": {
      "text/plain": [
       "Loading extensions from `C:\\Users\\davidm\\.nuget\\packages\\skiasharp\\2.88.8\\interactive-extensions\\dotnet\\SkiaSharp.DotNet.Interactive.dll`"
      ]
     },
     "metadata": {},
     "output_type": "display_data"
    }
   ],
   "source": [
    "#r \"nuget: Microsoft.ML.AutoML, 0.22.2\""
   ]
  },
  {
   "cell_type": "markdown",
   "metadata": {},
   "source": [
    "## Add using statements"
   ]
  },
  {
   "cell_type": "code",
   "execution_count": 2,
   "metadata": {
    "dotnet_interactive": {
     "language": "csharp"
    },
    "polyglot_notebook": {
     "kernelName": "csharp"
    },
    "vscode": {
     "languageId": "polyglot-notebook"
    }
   },
   "outputs": [],
   "source": [
    "using System.Threading;\n",
    "using System.IO;\n",
    "using System.Linq;\n",
    "using Microsoft.ML;\n",
    "using Microsoft.ML.Data;\n",
    "using Microsoft.ML.AutoML;"
   ]
  },
  {
   "cell_type": "markdown",
   "metadata": {},
   "source": [
    "## Initialize MLContext"
   ]
  },
  {
   "cell_type": "code",
   "execution_count": 3,
   "metadata": {
    "dotnet_interactive": {
     "language": "csharp"
    },
    "polyglot_notebook": {
     "kernelName": "csharp"
    },
    "vscode": {
     "languageId": "polyglot-notebook"
    }
   },
   "outputs": [],
   "source": [
    "// Initialize MLContext\n",
    "MLContext ctx = new MLContext();"
   ]
  },
  {
   "cell_type": "markdown",
   "metadata": {},
   "source": [
    "## Use AutoML to infer column information"
   ]
  },
  {
   "cell_type": "code",
   "execution_count": 4,
   "metadata": {
    "dotnet_interactive": {
     "language": "csharp"
    },
    "polyglot_notebook": {
     "kernelName": "csharp"
    },
    "vscode": {
     "languageId": "polyglot-notebook"
    }
   },
   "outputs": [],
   "source": [
    "// Define data path\n",
    "var dataPath = Path.GetFullPath(@\"Data/issues_train.tsv\");\n",
    "\n",
    "// Infer column information\n",
    "ColumnInferenceResults columnInference =\n",
    "    ctx.Auto().InferColumns(dataPath, separatorChar: '\\t', labelColumnName: \"Area\", groupColumns: false);"
   ]
  },
  {
   "cell_type": "code",
   "execution_count": 5,
   "metadata": {
    "dotnet_interactive": {
     "language": "csharp"
    },
    "polyglot_notebook": {
     "kernelName": "csharp"
    },
    "vscode": {
     "languageId": "polyglot-notebook"
    }
   },
   "outputs": [
    {
     "data": {
      "text/html": [
       "<details open=\"open\" class=\"dni-treeview\"><summary><span class=\"dni-code-hint\"><code>Microsoft.ML.AutoML.ColumnInferenceResults</code></span></summary><div><table><thead><tr></tr></thead><tbody><tr><td>TextLoaderOptions</td><td><details class=\"dni-treeview\"><summary><span class=\"dni-code-hint\"><code>Microsoft.ML.Data.TextLoader+Options</code></span></summary><div><table><thead><tr></tr></thead><tbody><tr><td>AllowQuoting</td><td><div class=\"dni-plaintext\"><pre>True</pre></div></td></tr><tr><td>AllowSparse</td><td><div class=\"dni-plaintext\"><pre>False</pre></div></td></tr><tr><td>InputSize</td><td><div class=\"dni-plaintext\"><pre>&lt;null&gt;</pre></div></td></tr><tr><td>Separators</td><td><div class=\"dni-plaintext\"><pre>[ \t ]</pre></div></td></tr><tr><td>DecimalMarker</td><td><div class=\"dni-plaintext\"><pre>.</pre></div></td></tr><tr><td>Columns</td><td><table><thead><tr><th><i>index</i></th><th>value</th></tr></thead><tbody><tr><td>0</td><td><details class=\"dni-treeview\"><summary><span class=\"dni-code-hint\"><code>Microsoft.ML.Data.TextLoader+Column</code></span></summary><div><table><thead><tr></tr></thead><tbody><tr><td>DataKind</td><td><span>Single</span></td></tr><tr><td>Name</td><td><div class=\"dni-plaintext\"><pre>ID</pre></div></td></tr><tr><td>Source</td><td><table><thead><tr><th><i>index</i></th><th>value</th></tr></thead><tbody><tr><td>0</td><td><details class=\"dni-treeview\"><summary><span class=\"dni-code-hint\"><code>Microsoft.ML.Data.TextLoader+Range</code></span></summary><div><table><thead><tr></tr></thead><tbody><tr><td>Min</td><td>0</td></tr><tr><td>Max</td><td>0</td></tr><tr><td>AutoEnd</td><td>False</td></tr><tr><td>VariableEnd</td><td>False</td></tr><tr><td>AllOther</td><td>False</td></tr><tr><td>ForceVector</td><td>False</td></tr></tbody></table></div></details></td></tr></tbody></table></td></tr><tr><td>KeyCount</td><td><div class=\"dni-plaintext\"><pre>&lt;null&gt;</pre></div></td></tr></tbody></table></div></details></td></tr><tr><td>1</td><td><details class=\"dni-treeview\"><summary><span class=\"dni-code-hint\"><code>Microsoft.ML.Data.TextLoader+Column</code></span></summary><div><table><thead><tr></tr></thead><tbody><tr><td>DataKind</td><td><span>String</span></td></tr><tr><td>Name</td><td><div class=\"dni-plaintext\"><pre>Area</pre></div></td></tr><tr><td>Source</td><td><table><thead><tr><th><i>index</i></th><th>value</th></tr></thead><tbody><tr><td>0</td><td><details class=\"dni-treeview\"><summary><span class=\"dni-code-hint\"><code>Microsoft.ML.Data.TextLoader+Range</code></span></summary><div><table><thead><tr></tr></thead><tbody><tr><td>Min</td><td>1</td></tr><tr><td>Max</td><td>1</td></tr><tr><td>AutoEnd</td><td>False</td></tr><tr><td>VariableEnd</td><td>False</td></tr><tr><td>AllOther</td><td>False</td></tr><tr><td>ForceVector</td><td>False</td></tr></tbody></table></div></details></td></tr></tbody></table></td></tr><tr><td>KeyCount</td><td><div class=\"dni-plaintext\"><pre>&lt;null&gt;</pre></div></td></tr></tbody></table></div></details></td></tr><tr><td>2</td><td><details class=\"dni-treeview\"><summary><span class=\"dni-code-hint\"><code>Microsoft.ML.Data.TextLoader+Column</code></span></summary><div><table><thead><tr></tr></thead><tbody><tr><td>DataKind</td><td><span>String</span></td></tr><tr><td>Name</td><td><div class=\"dni-plaintext\"><pre>Title</pre></div></td></tr><tr><td>Source</td><td><table><thead><tr><th><i>index</i></th><th>value</th></tr></thead><tbody><tr><td>0</td><td><details class=\"dni-treeview\"><summary><span class=\"dni-code-hint\"><code>Microsoft.ML.Data.TextLoader+Range</code></span></summary><div><table><thead><tr></tr></thead><tbody><tr><td>Min</td><td>2</td></tr><tr><td>Max</td><td>2</td></tr><tr><td>AutoEnd</td><td>False</td></tr><tr><td>VariableEnd</td><td>False</td></tr><tr><td>AllOther</td><td>False</td></tr><tr><td>ForceVector</td><td>False</td></tr></tbody></table></div></details></td></tr></tbody></table></td></tr><tr><td>KeyCount</td><td><div class=\"dni-plaintext\"><pre>&lt;null&gt;</pre></div></td></tr></tbody></table></div></details></td></tr><tr><td>3</td><td><details class=\"dni-treeview\"><summary><span class=\"dni-code-hint\"><code>Microsoft.ML.Data.TextLoader+Column</code></span></summary><div><table><thead><tr></tr></thead><tbody><tr><td>DataKind</td><td><span>String</span></td></tr><tr><td>Name</td><td><div class=\"dni-plaintext\"><pre>Description</pre></div></td></tr><tr><td>Source</td><td><table><thead><tr><th><i>index</i></th><th>value</th></tr></thead><tbody><tr><td>0</td><td><details class=\"dni-treeview\"><summary><span class=\"dni-code-hint\"><code>Microsoft.ML.Data.TextLoader+Range</code></span></summary><div><table><thead><tr></tr></thead><tbody><tr><td>Min</td><td>3</td></tr><tr><td>Max</td><td>3</td></tr><tr><td>AutoEnd</td><td>False</td></tr><tr><td>VariableEnd</td><td>False</td></tr><tr><td>AllOther</td><td>False</td></tr><tr><td>ForceVector</td><td>False</td></tr></tbody></table></div></details></td></tr></tbody></table></td></tr><tr><td>KeyCount</td><td><div class=\"dni-plaintext\"><pre>&lt;null&gt;</pre></div></td></tr></tbody></table></div></details></td></tr></tbody></table></td></tr><tr><td>TrimWhitespace</td><td><div class=\"dni-plaintext\"><pre>False</pre></div></td></tr><tr><td>HasHeader</td><td><div class=\"dni-plaintext\"><pre>True</pre></div></td></tr><tr><td>UseThreads</td><td><div class=\"dni-plaintext\"><pre>True</pre></div></td></tr><tr><td>ReadMultilines</td><td><div class=\"dni-plaintext\"><pre>False</pre></div></td></tr><tr><td>HeaderFile</td><td><div class=\"dni-plaintext\"><pre>&lt;null&gt;</pre></div></td></tr><tr><td>MaxRows</td><td><div class=\"dni-plaintext\"><pre>&lt;null&gt;</pre></div></td></tr><tr><td>EscapeChar</td><td><div class=\"dni-plaintext\"><pre>&quot;</pre></div></td></tr><tr><td>MissingRealsAsNaNs</td><td><div class=\"dni-plaintext\"><pre>False</pre></div></td></tr></tbody></table></div></details></td></tr><tr><td>ColumnInformation</td><td><details class=\"dni-treeview\"><summary><span class=\"dni-code-hint\"><code>Microsoft.ML.AutoML.ColumnInformation</code></span></summary><div><table><thead><tr></tr></thead><tbody><tr><td>LabelColumnName</td><td><div class=\"dni-plaintext\"><pre>Area</pre></div></td></tr><tr><td>UserIdColumnName</td><td><div class=\"dni-plaintext\"><pre>&lt;null&gt;</pre></div></td></tr><tr><td>GroupIdColumnName</td><td><div class=\"dni-plaintext\"><pre>&lt;null&gt;</pre></div></td></tr><tr><td>ItemIdColumnName</td><td><div class=\"dni-plaintext\"><pre>&lt;null&gt;</pre></div></td></tr><tr><td>ExampleWeightColumnName</td><td><div class=\"dni-plaintext\"><pre>&lt;null&gt;</pre></div></td></tr><tr><td>SamplingKeyColumnName</td><td><div class=\"dni-plaintext\"><pre>&lt;null&gt;</pre></div></td></tr><tr><td>CategoricalColumnNames</td><td><div class=\"dni-plaintext\"><pre>[  ]</pre></div></td></tr><tr><td>NumericColumnNames</td><td><div class=\"dni-plaintext\"><pre>[ ID ]</pre></div></td></tr><tr><td>TextColumnNames</td><td><div class=\"dni-plaintext\"><pre>[ Title, Description ]</pre></div></td></tr><tr><td>IgnoredColumnNames</td><td><div class=\"dni-plaintext\"><pre>[  ]</pre></div></td></tr><tr><td>ImagePathColumnNames</td><td><div class=\"dni-plaintext\"><pre>[  ]</pre></div></td></tr></tbody></table></div></details></td></tr></tbody></table></div></details><style>\r\n",
       ".dni-code-hint {\r\n",
       "    font-style: italic;\r\n",
       "    overflow: hidden;\r\n",
       "    white-space: nowrap;\r\n",
       "}\r\n",
       ".dni-treeview {\r\n",
       "    white-space: nowrap;\r\n",
       "}\r\n",
       ".dni-treeview td {\r\n",
       "    vertical-align: top;\r\n",
       "    text-align: start;\r\n",
       "}\r\n",
       "details.dni-treeview {\r\n",
       "    padding-left: 1em;\r\n",
       "}\r\n",
       "table td {\r\n",
       "    text-align: start;\r\n",
       "}\r\n",
       "table tr { \r\n",
       "    vertical-align: top; \r\n",
       "    margin: 0em 0px;\r\n",
       "}\r\n",
       "table tr td pre \r\n",
       "{ \r\n",
       "    vertical-align: top !important; \r\n",
       "    margin: 0em 0px !important;\r\n",
       "} \r\n",
       "table th {\r\n",
       "    text-align: start;\r\n",
       "}\r\n",
       "</style>"
      ]
     },
     "metadata": {},
     "output_type": "display_data"
    }
   ],
   "source": [
    "columnInference"
   ]
  },
  {
   "cell_type": "markdown",
   "metadata": {},
   "source": [
    "## Load data into IDataView"
   ]
  },
  {
   "cell_type": "code",
   "execution_count": 6,
   "metadata": {
    "dotnet_interactive": {
     "language": "csharp"
    },
    "polyglot_notebook": {
     "kernelName": "csharp"
    },
    "vscode": {
     "languageId": "polyglot-notebook"
    }
   },
   "outputs": [],
   "source": [
    "// Create text loader\n",
    "TextLoader loader = ctx.Data.CreateTextLoader(columnInference.TextLoaderOptions);\n",
    "\n",
    "// Load data into IDataView\n",
    "IDataView data = loader.Load(dataPath);"
   ]
  },
  {
   "cell_type": "markdown",
   "metadata": {},
   "source": [
    "## Remove columns"
   ]
  },
  {
   "cell_type": "code",
   "execution_count": 7,
   "metadata": {
    "dotnet_interactive": {
     "language": "csharp"
    },
    "polyglot_notebook": {
     "kernelName": "csharp"
    },
    "vscode": {
     "languageId": "polyglot-notebook"
    }
   },
   "outputs": [
    {
     "data": {
      "text/html": [
       "<details open=\"open\" class=\"dni-treeview\"><summary><span class=\"dni-code-hint\"><code>Microsoft.ML.Transforms.ColumnSelectingTransformer+SelectColumnsDataTransform</code></span></summary><div><table><thead><tr></tr></thead><tbody><tr><td>CanShuffle</td><td><div class=\"dni-plaintext\"><pre>False</pre></div></td></tr><tr><td>Source</td><td><details class=\"dni-treeview\"><summary><span class=\"dni-code-hint\"><code>Microsoft.ML.Data.TextLoader+BoundLoader</code></span></summary><div><table><thead><tr></tr></thead><tbody><tr><td>CanShuffle</td><td><div class=\"dni-plaintext\"><pre>False</pre></div></td></tr><tr><td>Schema</td><td><details class=\"dni-treeview\"><summary><span class=\"dni-code-hint\"><code>[ ID: Single, Area: String, Title: String, Description: String ]</code></span></summary><div><table><thead><tr></tr></thead><tbody><tr><td>Count</td><td><div class=\"dni-plaintext\"><pre>4</pre></div></td></tr><tr><td><i>(values)</i></td><td><table><thead><tr><th><i>index</i></th><th>value</th></tr></thead><tbody><tr><td>0</td><td><details class=\"dni-treeview\"><summary><span class=\"dni-code-hint\"><code>ID: Single</code></span></summary><div><table><thead><tr></tr></thead><tbody><tr><td>Name</td><td><div class=\"dni-plaintext\"><pre>ID</pre></div></td></tr><tr><td>Index</td><td><div class=\"dni-plaintext\"><pre>0</pre></div></td></tr><tr><td>IsHidden</td><td><div class=\"dni-plaintext\"><pre>False</pre></div></td></tr><tr><td>Type</td><td><details class=\"dni-treeview\"><summary><span class=\"dni-code-hint\"><code>Single</code></span></summary><div><table><thead><tr></tr></thead><tbody><tr><td>RawType</td><td><span><a href=\"https://docs.microsoft.com/dotnet/api/system.single?view=net-7.0\">System.Single</a></span></td></tr></tbody></table></div></details></td></tr><tr><td>Annotations</td><td><details class=\"dni-treeview\"><summary><span class=\"dni-code-hint\"><code></code></span></summary><div><table><thead><tr></tr></thead><tbody><tr><td>Schema</td><td><details class=\"dni-treeview\"><summary><span class=\"dni-code-hint\"><code>[  ]</code></span></summary><div><table><thead><tr></tr></thead><tbody><tr><td>Count</td><td>0</td></tr><tr><td><i>(values)</i></td><td><i>(empty)</i></td></tr></tbody></table></div></details></td></tr></tbody></table></div></details></td></tr></tbody></table></div></details></td></tr><tr><td>1</td><td><details class=\"dni-treeview\"><summary><span class=\"dni-code-hint\"><code>Area: String</code></span></summary><div><table><thead><tr></tr></thead><tbody><tr><td>Name</td><td><div class=\"dni-plaintext\"><pre>Area</pre></div></td></tr><tr><td>Index</td><td><div class=\"dni-plaintext\"><pre>1</pre></div></td></tr><tr><td>IsHidden</td><td><div class=\"dni-plaintext\"><pre>False</pre></div></td></tr><tr><td>Type</td><td><details class=\"dni-treeview\"><summary><span class=\"dni-code-hint\"><code>String</code></span></summary><div><table><thead><tr></tr></thead><tbody><tr><td>RawType</td><td><span><a href=\"https://docs.microsoft.com/dotnet/api/system.readonlymemory-1?view=net-7.0\">System.ReadOnlyMemory&lt;System.Char&gt;</a></span></td></tr></tbody></table></div></details></td></tr><tr><td>Annotations</td><td><details class=\"dni-treeview\"><summary><span class=\"dni-code-hint\"><code></code></span></summary><div><table><thead><tr></tr></thead><tbody><tr><td>Schema</td><td><details class=\"dni-treeview\"><summary><span class=\"dni-code-hint\"><code>[  ]</code></span></summary><div><table><thead><tr></tr></thead><tbody><tr><td>Count</td><td>0</td></tr><tr><td><i>(values)</i></td><td><i>(empty)</i></td></tr></tbody></table></div></details></td></tr></tbody></table></div></details></td></tr></tbody></table></div></details></td></tr><tr><td>2</td><td><details class=\"dni-treeview\"><summary><span class=\"dni-code-hint\"><code>Title: String</code></span></summary><div><table><thead><tr></tr></thead><tbody><tr><td>Name</td><td><div class=\"dni-plaintext\"><pre>Title</pre></div></td></tr><tr><td>Index</td><td><div class=\"dni-plaintext\"><pre>2</pre></div></td></tr><tr><td>IsHidden</td><td><div class=\"dni-plaintext\"><pre>False</pre></div></td></tr><tr><td>Type</td><td><details class=\"dni-treeview\"><summary><span class=\"dni-code-hint\"><code>String</code></span></summary><div><table><thead><tr></tr></thead><tbody><tr><td>RawType</td><td><span><a href=\"https://docs.microsoft.com/dotnet/api/system.readonlymemory-1?view=net-7.0\">System.ReadOnlyMemory&lt;System.Char&gt;</a></span></td></tr></tbody></table></div></details></td></tr><tr><td>Annotations</td><td><details class=\"dni-treeview\"><summary><span class=\"dni-code-hint\"><code></code></span></summary><div><table><thead><tr></tr></thead><tbody><tr><td>Schema</td><td><details class=\"dni-treeview\"><summary><span class=\"dni-code-hint\"><code>[  ]</code></span></summary><div><table><thead><tr></tr></thead><tbody><tr><td>Count</td><td>0</td></tr><tr><td><i>(values)</i></td><td><i>(empty)</i></td></tr></tbody></table></div></details></td></tr></tbody></table></div></details></td></tr></tbody></table></div></details></td></tr><tr><td>3</td><td><details class=\"dni-treeview\"><summary><span class=\"dni-code-hint\"><code>Description: String</code></span></summary><div><table><thead><tr></tr></thead><tbody><tr><td>Name</td><td><div class=\"dni-plaintext\"><pre>Description</pre></div></td></tr><tr><td>Index</td><td><div class=\"dni-plaintext\"><pre>3</pre></div></td></tr><tr><td>IsHidden</td><td><div class=\"dni-plaintext\"><pre>False</pre></div></td></tr><tr><td>Type</td><td><details class=\"dni-treeview\"><summary><span class=\"dni-code-hint\"><code>String</code></span></summary><div><table><thead><tr></tr></thead><tbody><tr><td>RawType</td><td><span><a href=\"https://docs.microsoft.com/dotnet/api/system.readonlymemory-1?view=net-7.0\">System.ReadOnlyMemory&lt;System.Char&gt;</a></span></td></tr></tbody></table></div></details></td></tr><tr><td>Annotations</td><td><details class=\"dni-treeview\"><summary><span class=\"dni-code-hint\"><code></code></span></summary><div><table><thead><tr></tr></thead><tbody><tr><td>Schema</td><td><details class=\"dni-treeview\"><summary><span class=\"dni-code-hint\"><code>[  ]</code></span></summary><div><table><thead><tr></tr></thead><tbody><tr><td>Count</td><td>0</td></tr><tr><td><i>(values)</i></td><td><i>(empty)</i></td></tr></tbody></table></div></details></td></tr></tbody></table></div></details></td></tr></tbody></table></div></details></td></tr></tbody></table></td></tr></tbody></table></div></details></td></tr></tbody></table></div></details></td></tr><tr><td>InputSchema</td><td><details class=\"dni-treeview\"><summary><span class=\"dni-code-hint\"><code>[ ID: Single, Area: String, Title: String, Description: String ]</code></span></summary><div><table><thead><tr></tr></thead><tbody><tr><td>Count</td><td><div class=\"dni-plaintext\"><pre>4</pre></div></td></tr><tr><td><i>(values)</i></td><td><table><thead><tr><th><i>index</i></th><th>value</th></tr></thead><tbody><tr><td>0</td><td><details class=\"dni-treeview\"><summary><span class=\"dni-code-hint\"><code>ID: Single</code></span></summary><div><table><thead><tr></tr></thead><tbody><tr><td>Name</td><td><div class=\"dni-plaintext\"><pre>ID</pre></div></td></tr><tr><td>Index</td><td><div class=\"dni-plaintext\"><pre>0</pre></div></td></tr><tr><td>IsHidden</td><td><div class=\"dni-plaintext\"><pre>False</pre></div></td></tr><tr><td>Type</td><td><details class=\"dni-treeview\"><summary><span class=\"dni-code-hint\"><code>Single</code></span></summary><div><table><thead><tr></tr></thead><tbody><tr><td>RawType</td><td><span><a href=\"https://docs.microsoft.com/dotnet/api/system.single?view=net-7.0\">System.Single</a></span></td></tr></tbody></table></div></details></td></tr><tr><td>Annotations</td><td><details class=\"dni-treeview\"><summary><span class=\"dni-code-hint\"><code></code></span></summary><div><table><thead><tr></tr></thead><tbody><tr><td>Schema</td><td><details class=\"dni-treeview\"><summary><span class=\"dni-code-hint\"><code>[  ]</code></span></summary><div><table><thead><tr></tr></thead><tbody><tr><td>Count</td><td><div class=\"dni-plaintext\"><pre>0</pre></div></td></tr><tr><td><i>(values)</i></td><td><i>(empty)</i></td></tr></tbody></table></div></details></td></tr></tbody></table></div></details></td></tr></tbody></table></div></details></td></tr><tr><td>1</td><td><details class=\"dni-treeview\"><summary><span class=\"dni-code-hint\"><code>Area: String</code></span></summary><div><table><thead><tr></tr></thead><tbody><tr><td>Name</td><td><div class=\"dni-plaintext\"><pre>Area</pre></div></td></tr><tr><td>Index</td><td><div class=\"dni-plaintext\"><pre>1</pre></div></td></tr><tr><td>IsHidden</td><td><div class=\"dni-plaintext\"><pre>False</pre></div></td></tr><tr><td>Type</td><td><details class=\"dni-treeview\"><summary><span class=\"dni-code-hint\"><code>String</code></span></summary><div><table><thead><tr></tr></thead><tbody><tr><td>RawType</td><td><span><a href=\"https://docs.microsoft.com/dotnet/api/system.readonlymemory-1?view=net-7.0\">System.ReadOnlyMemory&lt;System.Char&gt;</a></span></td></tr></tbody></table></div></details></td></tr><tr><td>Annotations</td><td><details class=\"dni-treeview\"><summary><span class=\"dni-code-hint\"><code></code></span></summary><div><table><thead><tr></tr></thead><tbody><tr><td>Schema</td><td><details class=\"dni-treeview\"><summary><span class=\"dni-code-hint\"><code>[  ]</code></span></summary><div><table><thead><tr></tr></thead><tbody><tr><td>Count</td><td><div class=\"dni-plaintext\"><pre>0</pre></div></td></tr><tr><td><i>(values)</i></td><td><i>(empty)</i></td></tr></tbody></table></div></details></td></tr></tbody></table></div></details></td></tr></tbody></table></div></details></td></tr><tr><td>2</td><td><details class=\"dni-treeview\"><summary><span class=\"dni-code-hint\"><code>Title: String</code></span></summary><div><table><thead><tr></tr></thead><tbody><tr><td>Name</td><td><div class=\"dni-plaintext\"><pre>Title</pre></div></td></tr><tr><td>Index</td><td><div class=\"dni-plaintext\"><pre>2</pre></div></td></tr><tr><td>IsHidden</td><td><div class=\"dni-plaintext\"><pre>False</pre></div></td></tr><tr><td>Type</td><td><details class=\"dni-treeview\"><summary><span class=\"dni-code-hint\"><code>String</code></span></summary><div><table><thead><tr></tr></thead><tbody><tr><td>RawType</td><td><span><a href=\"https://docs.microsoft.com/dotnet/api/system.readonlymemory-1?view=net-7.0\">System.ReadOnlyMemory&lt;System.Char&gt;</a></span></td></tr></tbody></table></div></details></td></tr><tr><td>Annotations</td><td><details class=\"dni-treeview\"><summary><span class=\"dni-code-hint\"><code></code></span></summary><div><table><thead><tr></tr></thead><tbody><tr><td>Schema</td><td><details class=\"dni-treeview\"><summary><span class=\"dni-code-hint\"><code>[  ]</code></span></summary><div><table><thead><tr></tr></thead><tbody><tr><td>Count</td><td><div class=\"dni-plaintext\"><pre>0</pre></div></td></tr><tr><td><i>(values)</i></td><td><i>(empty)</i></td></tr></tbody></table></div></details></td></tr></tbody></table></div></details></td></tr></tbody></table></div></details></td></tr><tr><td>3</td><td><details class=\"dni-treeview\"><summary><span class=\"dni-code-hint\"><code>Description: String</code></span></summary><div><table><thead><tr></tr></thead><tbody><tr><td>Name</td><td><div class=\"dni-plaintext\"><pre>Description</pre></div></td></tr><tr><td>Index</td><td><div class=\"dni-plaintext\"><pre>3</pre></div></td></tr><tr><td>IsHidden</td><td><div class=\"dni-plaintext\"><pre>False</pre></div></td></tr><tr><td>Type</td><td><details class=\"dni-treeview\"><summary><span class=\"dni-code-hint\"><code>String</code></span></summary><div><table><thead><tr></tr></thead><tbody><tr><td>RawType</td><td><span><a href=\"https://docs.microsoft.com/dotnet/api/system.readonlymemory-1?view=net-7.0\">System.ReadOnlyMemory&lt;System.Char&gt;</a></span></td></tr></tbody></table></div></details></td></tr><tr><td>Annotations</td><td><details class=\"dni-treeview\"><summary><span class=\"dni-code-hint\"><code></code></span></summary><div><table><thead><tr></tr></thead><tbody><tr><td>Schema</td><td><details class=\"dni-treeview\"><summary><span class=\"dni-code-hint\"><code>[  ]</code></span></summary><div><table><thead><tr></tr></thead><tbody><tr><td>Count</td><td><div class=\"dni-plaintext\"><pre>0</pre></div></td></tr><tr><td><i>(values)</i></td><td><i>(empty)</i></td></tr></tbody></table></div></details></td></tr></tbody></table></div></details></td></tr></tbody></table></div></details></td></tr></tbody></table></td></tr></tbody></table></div></details></td></tr><tr><td>OutputSchema</td><td><details class=\"dni-treeview\"><summary><span class=\"dni-code-hint\"><code>[ Area: String, Title: String ]</code></span></summary><div><table><thead><tr></tr></thead><tbody><tr><td>Count</td><td><div class=\"dni-plaintext\"><pre>2</pre></div></td></tr><tr><td><i>(values)</i></td><td><table><thead><tr><th><i>index</i></th><th>value</th></tr></thead><tbody><tr><td>0</td><td><details class=\"dni-treeview\"><summary><span class=\"dni-code-hint\"><code>Area: String</code></span></summary><div><table><thead><tr></tr></thead><tbody><tr><td>Name</td><td><div class=\"dni-plaintext\"><pre>Area</pre></div></td></tr><tr><td>Index</td><td><div class=\"dni-plaintext\"><pre>0</pre></div></td></tr><tr><td>IsHidden</td><td><div class=\"dni-plaintext\"><pre>False</pre></div></td></tr><tr><td>Type</td><td><details class=\"dni-treeview\"><summary><span class=\"dni-code-hint\"><code>String</code></span></summary><div><table><thead><tr></tr></thead><tbody><tr><td>RawType</td><td><span><a href=\"https://docs.microsoft.com/dotnet/api/system.readonlymemory-1?view=net-7.0\">System.ReadOnlyMemory&lt;System.Char&gt;</a></span></td></tr></tbody></table></div></details></td></tr><tr><td>Annotations</td><td><details class=\"dni-treeview\"><summary><span class=\"dni-code-hint\"><code></code></span></summary><div><table><thead><tr></tr></thead><tbody><tr><td>Schema</td><td><details class=\"dni-treeview\"><summary><span class=\"dni-code-hint\"><code>[  ]</code></span></summary><div><table><thead><tr></tr></thead><tbody><tr><td>Count</td><td><div class=\"dni-plaintext\"><pre>0</pre></div></td></tr><tr><td><i>(values)</i></td><td><i>(empty)</i></td></tr></tbody></table></div></details></td></tr></tbody></table></div></details></td></tr></tbody></table></div></details></td></tr><tr><td>1</td><td><details class=\"dni-treeview\"><summary><span class=\"dni-code-hint\"><code>Title: String</code></span></summary><div><table><thead><tr></tr></thead><tbody><tr><td>Name</td><td><div class=\"dni-plaintext\"><pre>Title</pre></div></td></tr><tr><td>Index</td><td><div class=\"dni-plaintext\"><pre>1</pre></div></td></tr><tr><td>IsHidden</td><td><div class=\"dni-plaintext\"><pre>False</pre></div></td></tr><tr><td>Type</td><td><details class=\"dni-treeview\"><summary><span class=\"dni-code-hint\"><code>String</code></span></summary><div><table><thead><tr></tr></thead><tbody><tr><td>RawType</td><td><span><a href=\"https://docs.microsoft.com/dotnet/api/system.readonlymemory-1?view=net-7.0\">System.ReadOnlyMemory&lt;System.Char&gt;</a></span></td></tr></tbody></table></div></details></td></tr><tr><td>Annotations</td><td><details class=\"dni-treeview\"><summary><span class=\"dni-code-hint\"><code></code></span></summary><div><table><thead><tr></tr></thead><tbody><tr><td>Schema</td><td><details class=\"dni-treeview\"><summary><span class=\"dni-code-hint\"><code>[  ]</code></span></summary><div><table><thead><tr></tr></thead><tbody><tr><td>Count</td><td><div class=\"dni-plaintext\"><pre>0</pre></div></td></tr><tr><td><i>(values)</i></td><td><i>(empty)</i></td></tr></tbody></table></div></details></td></tr></tbody></table></div></details></td></tr></tbody></table></div></details></td></tr></tbody></table></td></tr></tbody></table></div></details></td></tr></tbody></table></div></details><style>\r\n",
       ".dni-code-hint {\r\n",
       "    font-style: italic;\r\n",
       "    overflow: hidden;\r\n",
       "    white-space: nowrap;\r\n",
       "}\r\n",
       ".dni-treeview {\r\n",
       "    white-space: nowrap;\r\n",
       "}\r\n",
       ".dni-treeview td {\r\n",
       "    vertical-align: top;\r\n",
       "    text-align: start;\r\n",
       "}\r\n",
       "details.dni-treeview {\r\n",
       "    padding-left: 1em;\r\n",
       "}\r\n",
       "table td {\r\n",
       "    text-align: start;\r\n",
       "}\r\n",
       "table tr { \r\n",
       "    vertical-align: top; \r\n",
       "    margin: 0em 0px;\r\n",
       "}\r\n",
       "table tr td pre \r\n",
       "{ \r\n",
       "    vertical-align: top !important; \r\n",
       "    margin: 0em 0px !important;\r\n",
       "} \r\n",
       "table th {\r\n",
       "    text-align: start;\r\n",
       "}\r\n",
       "</style>"
      ]
     },
     "metadata": {},
     "output_type": "display_data"
    }
   ],
   "source": [
    "var columnsToExclude = new[]{\"ID\", \"Description\"};\n",
    "\n",
    "data = ctx.Transforms.DropColumns(columnsToExclude)\n",
    "    .Fit(data)\n",
    "    .Transform(data)"
   ]
  },
  {
   "cell_type": "markdown",
   "metadata": {},
   "source": [
    "## Split data into train / validation\n",
    "\n",
    "80% of the dataset is used for training and 20% is used for validation (tuning)"
   ]
  },
  {
   "cell_type": "code",
   "execution_count": 8,
   "metadata": {
    "dotnet_interactive": {
     "language": "csharp"
    },
    "polyglot_notebook": {
     "kernelName": "csharp"
    },
    "vscode": {
     "languageId": "polyglot-notebook"
    }
   },
   "outputs": [],
   "source": [
    "var trainValidationData = ctx.Data.TrainTestSplit(data, testFraction: 0.2);"
   ]
  },
  {
   "cell_type": "code",
   "execution_count": 9,
   "metadata": {
    "dotnet_interactive": {
     "language": "csharp"
    },
    "polyglot_notebook": {
     "kernelName": "csharp"
    },
    "vscode": {
     "languageId": "polyglot-notebook"
    }
   },
   "outputs": [],
   "source": [
    "SweepablePipeline pipeline =\n",
    "    ctx.Auto().Featurizer(data, columnInformation: columnInference.ColumnInformation)\n",
    "        .Append(ctx.Transforms.Conversion.MapValueToKey(columnInference.ColumnInformation.LabelColumnName))\n",
    "        .Append(ctx.Auto().MultiClassification(labelColumnName: columnInference.ColumnInformation.LabelColumnName))\n",
    "        .Append(ctx.Transforms.Conversion.MapKeyToValue(\"PredictedLabel\"));"
   ]
  },
  {
   "cell_type": "markdown",
   "metadata": {},
   "source": [
    "## Create AutoML experiment"
   ]
  },
  {
   "cell_type": "code",
   "execution_count": 10,
   "metadata": {
    "dotnet_interactive": {
     "language": "csharp"
    },
    "polyglot_notebook": {
     "kernelName": "csharp"
    },
    "vscode": {
     "languageId": "polyglot-notebook"
    }
   },
   "outputs": [],
   "source": [
    "AutoMLExperiment experiment = ctx.Auto().CreateExperiment();"
   ]
  },
  {
   "cell_type": "markdown",
   "metadata": {},
   "source": [
    "## Configure experiment settings"
   ]
  },
  {
   "cell_type": "code",
   "execution_count": 11,
   "metadata": {
    "dotnet_interactive": {
     "language": "csharp"
    },
    "polyglot_notebook": {
     "kernelName": "csharp"
    },
    "vscode": {
     "languageId": "polyglot-notebook"
    }
   },
   "outputs": [],
   "source": [
    "experiment\n",
    ".SetPipeline(pipeline)\n",
    ".SetMulticlassClassificationMetric(MulticlassClassificationMetric.MacroAccuracy, labelColumn: columnInference.ColumnInformation.LabelColumnName)\n",
    ".SetTrainingTimeInSeconds(120)\n",
    ".SetDataset(trainValidationData);"
   ]
  },
  {
   "cell_type": "markdown",
   "metadata": {},
   "source": [
    "## Configure experiment monitor"
   ]
  },
  {
   "cell_type": "code",
   "execution_count": 12,
   "metadata": {
    "dotnet_interactive": {
     "language": "csharp"
    },
    "polyglot_notebook": {
     "kernelName": "csharp"
    },
    "vscode": {
     "languageId": "polyglot-notebook"
    }
   },
   "outputs": [],
   "source": [
    "public class AutoMLMonitor : IMonitor\n",
    "{\n",
    "    private readonly List<TrialResult> _completedTrials;\n",
    "    private readonly SweepablePipeline _pipeline;\n",
    "\n",
    "    public AutoMLMonitor(SweepablePipeline pipeline)\n",
    "    {\n",
    "        _completedTrials = new List<TrialResult>();\n",
    "        _pipeline = pipeline;\n",
    "    }\n",
    "\n",
    "    public IEnumerable<TrialResult> GetCompletedTrials() => _completedTrials;\n",
    "\n",
    "    public void ReportBestTrial(TrialResult result)\n",
    "    {\n",
    "        return;\n",
    "    }\n",
    "\n",
    "    public void ReportCompletedTrial(TrialResult result)\n",
    "    {\n",
    "        var trialId = result.TrialSettings.TrialId;\n",
    "        var timeToTrain = result.DurationInMilliseconds;\n",
    "        var pipeline = _pipeline.ToString(result.TrialSettings.Parameter);\n",
    "        Console.WriteLine($\"Trial {trialId} finished training in {timeToTrain}ms with pipeline {pipeline}\");\n",
    "        _completedTrials.Add(result);\n",
    "    }\n",
    "\n",
    "    public void ReportFailTrial(TrialSettings settings, Exception exception = null)\n",
    "    {\n",
    "        if (exception.Message.Contains(\"Operation was canceled.\"))\n",
    "        {\n",
    "            Console.WriteLine($\"{settings.TrialId} cancelled. Time budget exceeded.\");\n",
    "        }\n",
    "        Console.WriteLine($\"{settings.TrialId} failed with exception {exception.Message}\");\n",
    "    }\n",
    "\n",
    "    public void ReportRunningTrial(TrialSettings setting)\n",
    "    {\n",
    "        return;\n",
    "    }\n",
    "}"
   ]
  },
  {
   "cell_type": "code",
   "execution_count": 13,
   "metadata": {
    "dotnet_interactive": {
     "language": "csharp"
    },
    "polyglot_notebook": {
     "kernelName": "csharp"
    },
    "vscode": {
     "languageId": "polyglot-notebook"
    }
   },
   "outputs": [],
   "source": [
    "var monitor = new AutoMLMonitor(pipeline);\n",
    "experiment.SetMonitor(monitor);"
   ]
  },
  {
   "cell_type": "markdown",
   "metadata": {},
   "source": [
    "## Train the model"
   ]
  },
  {
   "cell_type": "code",
   "execution_count": 14,
   "metadata": {
    "dotnet_interactive": {
     "language": "csharp"
    },
    "polyglot_notebook": {
     "kernelName": "csharp"
    },
    "vscode": {
     "languageId": "polyglot-notebook"
    }
   },
   "outputs": [
    {
     "name": "stdout",
     "output_type": "stream",
     "text": [
      "Trial 0 finished training in 1479ms with pipeline FeaturizeText=>Concatenate=>Unknown=>FastTreeOva=>Unknown\n",
      "Trial 1 finished training in 1066ms with pipeline FeaturizeText=>Concatenate=>Unknown=>FastTreeOva=>Unknown\n",
      "Trial 2 finished training in 1376ms with pipeline FeaturizeText=>Concatenate=>Unknown=>FastForestOva=>Unknown\n",
      "Trial 3 finished training in 69ms with pipeline FeaturizeText=>Concatenate=>Unknown=>LightGbmMulti=>Unknown\n",
      "Trial 4 finished training in 1226ms with pipeline FeaturizeText=>Concatenate=>Unknown=>FastTreeOva=>Unknown\n",
      "Trial 5 finished training in 1354ms with pipeline FeaturizeText=>Concatenate=>Unknown=>FastTreeOva=>Unknown\n",
      "Trial 6 finished training in 1251ms with pipeline FeaturizeText=>Concatenate=>Unknown=>FastForestOva=>Unknown\n",
      "Trial 7 finished training in 1038ms with pipeline FeaturizeText=>Concatenate=>Unknown=>FastTreeOva=>Unknown\n",
      "Trial 8 finished training in 1122ms with pipeline FeaturizeText=>Concatenate=>Unknown=>FastForestOva=>Unknown\n",
      "Trial 9 finished training in 1146ms with pipeline FeaturizeText=>Concatenate=>Unknown=>FastTreeOva=>Unknown\n",
      "Trial 10 finished training in 1393ms with pipeline FeaturizeText=>Concatenate=>Unknown=>FastForestOva=>Unknown\n",
      "Trial 11 finished training in 338ms with pipeline FeaturizeText=>Concatenate=>Unknown=>SdcaLogisticRegressionOva=>Unknown\n",
      "Trial 12 finished training in 23ms with pipeline FeaturizeText=>Concatenate=>Unknown=>SdcaMaximumEntropyMulti=>Unknown\n",
      "Trial 13 finished training in 1234ms with pipeline FeaturizeText=>Concatenate=>Unknown=>FastForestOva=>Unknown\n",
      "Trial 14 finished training in 1152ms with pipeline FeaturizeText=>Concatenate=>Unknown=>FastTreeOva=>Unknown\n",
      "Trial 15 finished training in 94ms with pipeline FeaturizeText=>Concatenate=>Unknown=>LbfgsMaximumEntropyMulti=>Unknown\n",
      "Trial 16 finished training in 168ms with pipeline FeaturizeText=>Concatenate=>Unknown=>LbfgsLogisticRegressionOva=>Unknown\n",
      "Trial 17 finished training in 1250ms with pipeline FeaturizeText=>Concatenate=>Unknown=>FastForestOva=>Unknown\n",
      "Trial 18 finished training in 1327ms with pipeline FeaturizeText=>Concatenate=>Unknown=>FastTreeOva=>Unknown\n",
      "Trial 19 finished training in 1370ms with pipeline FeaturizeText=>Concatenate=>Unknown=>FastTreeOva=>Unknown\n",
      "Trial 20 finished training in 1443ms with pipeline FeaturizeText=>Concatenate=>Unknown=>FastForestOva=>Unknown\n",
      "Trial 21 finished training in 1634ms with pipeline FeaturizeText=>Concatenate=>Unknown=>FastForestOva=>Unknown\n",
      "Trial 22 finished training in 1502ms with pipeline FeaturizeText=>Concatenate=>Unknown=>FastForestOva=>Unknown\n",
      "Trial 23 finished training in 1465ms with pipeline FeaturizeText=>Concatenate=>Unknown=>FastTreeOva=>Unknown\n",
      "Trial 24 finished training in 1609ms with pipeline FeaturizeText=>Concatenate=>Unknown=>FastTreeOva=>Unknown\n",
      "Trial 25 finished training in 1932ms with pipeline FeaturizeText=>Concatenate=>Unknown=>FastForestOva=>Unknown\n",
      "Trial 26 finished training in 1831ms with pipeline FeaturizeText=>Concatenate=>Unknown=>FastTreeOva=>Unknown\n",
      "Trial 27 finished training in 1430ms with pipeline FeaturizeText=>Concatenate=>Unknown=>FastTreeOva=>Unknown\n",
      "Trial 28 finished training in 1485ms with pipeline FeaturizeText=>Concatenate=>Unknown=>FastTreeOva=>Unknown\n",
      "Trial 29 finished training in 1707ms with pipeline FeaturizeText=>Concatenate=>Unknown=>FastTreeOva=>Unknown\n",
      "Trial 30 finished training in 2001ms with pipeline FeaturizeText=>Concatenate=>Unknown=>FastForestOva=>Unknown\n",
      "Trial 31 finished training in 1690ms with pipeline FeaturizeText=>Concatenate=>Unknown=>FastTreeOva=>Unknown\n",
      "Trial 32 finished training in 1607ms with pipeline FeaturizeText=>Concatenate=>Unknown=>FastTreeOva=>Unknown\n",
      "Trial 33 finished training in 2119ms with pipeline FeaturizeText=>Concatenate=>Unknown=>FastTreeOva=>Unknown\n",
      "Trial 34 finished training in 2238ms with pipeline FeaturizeText=>Concatenate=>Unknown=>FastTreeOva=>Unknown\n",
      "Trial 35 finished training in 1990ms with pipeline FeaturizeText=>Concatenate=>Unknown=>FastTreeOva=>Unknown\n",
      "Trial 36 finished training in 2120ms with pipeline FeaturizeText=>Concatenate=>Unknown=>FastTreeOva=>Unknown\n",
      "Trial 37 finished training in 2070ms with pipeline FeaturizeText=>Concatenate=>Unknown=>FastTreeOva=>Unknown\n",
      "Trial 38 finished training in 2150ms with pipeline FeaturizeText=>Concatenate=>Unknown=>FastForestOva=>Unknown\n",
      "Trial 39 finished training in 2522ms with pipeline FeaturizeText=>Concatenate=>Unknown=>FastForestOva=>Unknown\n",
      "Trial 40 finished training in 2365ms with pipeline FeaturizeText=>Concatenate=>Unknown=>FastForestOva=>Unknown\n",
      "Trial 41 finished training in 2786ms with pipeline FeaturizeText=>Concatenate=>Unknown=>FastForestOva=>Unknown\n",
      "Trial 42 finished training in 2603ms with pipeline FeaturizeText=>Concatenate=>Unknown=>FastForestOva=>Unknown\n",
      "Trial 43 finished training in 2425ms with pipeline FeaturizeText=>Concatenate=>Unknown=>FastTreeOva=>Unknown\n",
      "Trial 44 finished training in 2313ms with pipeline FeaturizeText=>Concatenate=>Unknown=>FastTreeOva=>Unknown\n",
      "Trial 45 finished training in 2355ms with pipeline FeaturizeText=>Concatenate=>Unknown=>FastTreeOva=>Unknown\n",
      "Trial 46 finished training in 2381ms with pipeline FeaturizeText=>Concatenate=>Unknown=>FastTreeOva=>Unknown\n",
      "Trial 47 finished training in 2622ms with pipeline FeaturizeText=>Concatenate=>Unknown=>FastForestOva=>Unknown\n",
      "Trial 48 finished training in 2435ms with pipeline FeaturizeText=>Concatenate=>Unknown=>FastForestOva=>Unknown\n",
      "Trial 49 finished training in 2393ms with pipeline FeaturizeText=>Concatenate=>Unknown=>FastForestOva=>Unknown\n",
      "Trial 50 finished training in 2570ms with pipeline FeaturizeText=>Concatenate=>Unknown=>FastForestOva=>Unknown\n",
      "Trial 51 finished training in 3058ms with pipeline FeaturizeText=>Concatenate=>Unknown=>FastForestOva=>Unknown\n",
      "Trial 52 finished training in 2633ms with pipeline FeaturizeText=>Concatenate=>Unknown=>FastForestOva=>Unknown\n",
      "Trial 53 finished training in 2408ms with pipeline FeaturizeText=>Concatenate=>Unknown=>FastForestOva=>Unknown\n",
      "Trial 54 finished training in 2568ms with pipeline FeaturizeText=>Concatenate=>Unknown=>FastForestOva=>Unknown\n",
      "Trial 55 finished training in 2899ms with pipeline FeaturizeText=>Concatenate=>Unknown=>FastForestOva=>Unknown\n",
      "Trial 56 finished training in 3269ms with pipeline FeaturizeText=>Concatenate=>Unknown=>FastForestOva=>Unknown\n",
      "Trial 57 finished training in 2715ms with pipeline FeaturizeText=>Concatenate=>Unknown=>FastForestOva=>Unknown\n",
      "Trial 58 finished training in 2691ms with pipeline FeaturizeText=>Concatenate=>Unknown=>FastForestOva=>Unknown\n",
      "Trial 59 finished training in 2473ms with pipeline FeaturizeText=>Concatenate=>Unknown=>FastForestOva=>Unknown\n",
      "Trial 60 finished training in 2676ms with pipeline FeaturizeText=>Concatenate=>Unknown=>FastForestOva=>Unknown\n",
      "Trial 61 finished training in 2745ms with pipeline FeaturizeText=>Concatenate=>Unknown=>FastTreeOva=>Unknown\n",
      "Trial 62 finished training in 3119ms with pipeline FeaturizeText=>Concatenate=>Unknown=>FastTreeOva=>Unknown\n",
      "Trial 63 finished training in 2880ms with pipeline FeaturizeText=>Concatenate=>Unknown=>FastTreeOva=>Unknown\n"
     ]
    }
   ],
   "source": [
    "var cts = new CancellationTokenSource();\n",
    "TrialResult experimentResults = await experiment.RunAsync(cts.Token);"
   ]
  },
  {
   "cell_type": "markdown",
   "metadata": {},
   "source": [
    "## Get the best model"
   ]
  },
  {
   "cell_type": "code",
   "execution_count": 15,
   "metadata": {
    "dotnet_interactive": {
     "language": "csharp"
    },
    "polyglot_notebook": {
     "kernelName": "csharp"
    },
    "vscode": {
     "languageId": "polyglot-notebook"
    }
   },
   "outputs": [
    {
     "data": {
      "text/html": [
       "<details open=\"open\" class=\"dni-treeview\"><summary><span class=\"dni-code-hint\"><code>[ Microsoft.ML.Transforms.Text.TextFeaturizingEstimator+Transformer, Microsoft.ML.Data.ColumnConcatenatingTransformer, Microsoft.ML.Transforms.ValueToKeyMappingTransformer, Microsoft.ML.Data.MulticlassPredictionTransformer`1[Microsoft.ML.Trainers.OneVersusAllModelParameters], Microsoft.ML.Transforms.KeyToValueMappingTransformer ]</code></span></summary><div><table><thead><tr></tr></thead><tbody><tr><td>LastTransformer</td><td><details class=\"dni-treeview\"><summary><span class=\"dni-code-hint\"><code>Microsoft.ML.Transforms.KeyToValueMappingTransformer</code></span></summary><div><table><thead><tr></tr></thead><tbody></tbody></table></div></details></td></tr><tr><td><i>(values)</i></td><td><table><thead><tr><th><i>index</i></th><th><i>type</i></th><th>value</th></tr></thead><tbody><tr><td>0</td><td><span><a href=\"https://docs.microsoft.com/dotnet/api/microsoft.ml.transforms.text.textfeaturizingestimator.transformer?view=net-7.0\">Microsoft.ML.Transforms.Text.TextFeaturizingEstimator+Transformer</a></span></td><td><details class=\"dni-treeview\"><summary><span class=\"dni-code-hint\"><code>Microsoft.ML.Transforms.Text.TextFeaturizingEstimator+Transformer</code></span></summary><div><table><thead><tr></tr></thead><tbody></tbody></table></div></details></td></tr><tr><td>1</td><td><span><a href=\"https://docs.microsoft.com/dotnet/api/microsoft.ml.data.columnconcatenatingtransformer?view=net-7.0\">Microsoft.ML.Data.ColumnConcatenatingTransformer</a></span></td><td><details class=\"dni-treeview\"><summary><span class=\"dni-code-hint\"><code>Microsoft.ML.Data.ColumnConcatenatingTransformer</code></span></summary><div><table><thead><tr></tr></thead><tbody></tbody></table></div></details></td></tr><tr><td>2</td><td><span><a href=\"https://docs.microsoft.com/dotnet/api/microsoft.ml.transforms.valuetokeymappingtransformer?view=net-7.0\">Microsoft.ML.Transforms.ValueToKeyMappingTransformer</a></span></td><td><details class=\"dni-treeview\"><summary><span class=\"dni-code-hint\"><code>Microsoft.ML.Transforms.ValueToKeyMappingTransformer</code></span></summary><div><table><thead><tr></tr></thead><tbody></tbody></table></div></details></td></tr><tr><td>3</td><td><span><a href=\"https://docs.microsoft.com/dotnet/api/microsoft.ml.data.multiclasspredictiontransformer-1?view=net-7.0\">Microsoft.ML.Data.MulticlassPredictionTransformer&lt;Microsoft.ML.Trainers.OneVersusAllModelParameters&gt;</a></span></td><td><details class=\"dni-treeview\"><summary><span class=\"dni-code-hint\"><code>Microsoft.ML.Data.MulticlassPredictionTransformer`1[Microsoft.ML.Trainers.OneVersusAllModelParameters]</code></span></summary><div><table><thead><tr></tr></thead><tbody><tr><td>FeatureColumnName</td><td><div class=\"dni-plaintext\"><pre>Features</pre></div></td></tr><tr><td>FeatureColumnType</td><td><details class=\"dni-treeview\"><summary><span class=\"dni-code-hint\"><code>Vector&lt;Single, 2202&gt;</code></span></summary><div><table><thead><tr></tr></thead><tbody><tr><td>Dimensions</td><td><div class=\"dni-plaintext\"><pre>[ 2202 ]</pre></div></td></tr><tr><td>IsKnownSize</td><td><div class=\"dni-plaintext\"><pre>True</pre></div></td></tr><tr><td>ItemType</td><td><details class=\"dni-treeview\"><summary><span class=\"dni-code-hint\"><code>Single</code></span></summary><div><table><thead><tr></tr></thead><tbody><tr><td>RawType</td><td><span><a href=\"https://docs.microsoft.com/dotnet/api/system.single?view=net-7.0\">System.Single</a></span></td></tr></tbody></table></div></details></td></tr><tr><td>Size</td><td><div class=\"dni-plaintext\"><pre>2202</pre></div></td></tr><tr><td>RawType</td><td><span><a href=\"https://docs.microsoft.com/dotnet/api/microsoft.ml.data.vbuffer-1?view=net-7.0\">Microsoft.ML.Data.VBuffer&lt;System.Single&gt;</a></span></td></tr></tbody></table></div></details></td></tr><tr><td>Model</td><td><details class=\"dni-treeview\"><summary><span class=\"dni-code-hint\"><code>Microsoft.ML.Trainers.OneVersusAllModelParameters</code></span></summary><div><table><thead><tr></tr></thead><tbody></tbody></table></div></details></td></tr></tbody></table></div></details></td></tr><tr><td>4</td><td><span><a href=\"https://docs.microsoft.com/dotnet/api/microsoft.ml.transforms.keytovaluemappingtransformer?view=net-7.0\">Microsoft.ML.Transforms.KeyToValueMappingTransformer</a></span></td><td><details class=\"dni-treeview\"><summary><span class=\"dni-code-hint\"><code>Microsoft.ML.Transforms.KeyToValueMappingTransformer</code></span></summary><div><table><thead><tr></tr></thead><tbody></tbody></table></div></details></td></tr></tbody></table></td></tr></tbody></table></div></details><style>\r\n",
       ".dni-code-hint {\r\n",
       "    font-style: italic;\r\n",
       "    overflow: hidden;\r\n",
       "    white-space: nowrap;\r\n",
       "}\r\n",
       ".dni-treeview {\r\n",
       "    white-space: nowrap;\r\n",
       "}\r\n",
       ".dni-treeview td {\r\n",
       "    vertical-align: top;\r\n",
       "    text-align: start;\r\n",
       "}\r\n",
       "details.dni-treeview {\r\n",
       "    padding-left: 1em;\r\n",
       "}\r\n",
       "table td {\r\n",
       "    text-align: start;\r\n",
       "}\r\n",
       "table tr { \r\n",
       "    vertical-align: top; \r\n",
       "    margin: 0em 0px;\r\n",
       "}\r\n",
       "table tr td pre \r\n",
       "{ \r\n",
       "    vertical-align: top !important; \r\n",
       "    margin: 0em 0px !important;\r\n",
       "} \r\n",
       "table th {\r\n",
       "    text-align: start;\r\n",
       "}\r\n",
       "</style>"
      ]
     },
     "metadata": {},
     "output_type": "display_data"
    }
   ],
   "source": [
    "var bestModel = experimentResults.Model;\n",
    "bestModel"
   ]
  },
  {
   "cell_type": "markdown",
   "metadata": {},
   "source": [
    "## Display the metric for the best model"
   ]
  },
  {
   "cell_type": "code",
   "execution_count": 16,
   "metadata": {
    "dotnet_interactive": {
     "language": "csharp"
    },
    "polyglot_notebook": {
     "kernelName": "csharp"
    },
    "vscode": {
     "languageId": "polyglot-notebook"
    }
   },
   "outputs": [
    {
     "data": {
      "text/html": [
       "<div class=\"dni-plaintext\"><pre>0.16666666666666666</pre></div><style>\r\n",
       ".dni-code-hint {\r\n",
       "    font-style: italic;\r\n",
       "    overflow: hidden;\r\n",
       "    white-space: nowrap;\r\n",
       "}\r\n",
       ".dni-treeview {\r\n",
       "    white-space: nowrap;\r\n",
       "}\r\n",
       ".dni-treeview td {\r\n",
       "    vertical-align: top;\r\n",
       "    text-align: start;\r\n",
       "}\r\n",
       "details.dni-treeview {\r\n",
       "    padding-left: 1em;\r\n",
       "}\r\n",
       "table td {\r\n",
       "    text-align: start;\r\n",
       "}\r\n",
       "table tr { \r\n",
       "    vertical-align: top; \r\n",
       "    margin: 0em 0px;\r\n",
       "}\r\n",
       "table tr td pre \r\n",
       "{ \r\n",
       "    vertical-align: top !important; \r\n",
       "    margin: 0em 0px !important;\r\n",
       "} \r\n",
       "table th {\r\n",
       "    text-align: start;\r\n",
       "}\r\n",
       "</style>"
      ]
     },
     "metadata": {},
     "output_type": "display_data"
    }
   ],
   "source": [
    "experimentResults.Metric"
   ]
  },
  {
   "cell_type": "markdown",
   "metadata": {},
   "source": [
    "## Try out the model"
   ]
  },
  {
   "cell_type": "markdown",
   "metadata": {},
   "source": [
    "### Make predictions"
   ]
  },
  {
   "cell_type": "code",
   "execution_count": 17,
   "metadata": {
    "dotnet_interactive": {
     "language": "csharp"
    },
    "polyglot_notebook": {
     "kernelName": "csharp"
    },
    "vscode": {
     "languageId": "polyglot-notebook"
    }
   },
   "outputs": [],
   "source": [
    "var predictions = bestModel.Transform(trainValidationData.TestSet);"
   ]
  },
  {
   "cell_type": "markdown",
   "metadata": {},
   "source": [
    "### Display prediction results"
   ]
  },
  {
   "cell_type": "code",
   "execution_count": 18,
   "metadata": {
    "dotnet_interactive": {
     "language": "csharp"
    },
    "polyglot_notebook": {
     "kernelName": "csharp"
    },
    "vscode": {
     "languageId": "polyglot-notebook"
    }
   },
   "outputs": [
    {
     "data": {
      "text/html": [
       "<table><thead><tr><th><i>index</i></th><th>value</th></tr></thead><tbody><tr><td>0</td><td><details class=\"dni-treeview\"><summary><span class=\"dni-code-hint\"><code>8 columns</code></span></summary><div><table><thead><tr></tr></thead><tbody><tr><td>Values</td><td><table><thead><tr><th><i>index</i></th><th>value</th></tr></thead><tbody><tr><td>0</td><td><details class=\"dni-treeview\"><summary><span class=\"dni-code-hint\"><code>[Area, Unlabeled]</code></span></summary><div><table><thead><tr></tr></thead><tbody><tr><td>Key</td><td><div class=\"dni-plaintext\"><pre>Area</pre></div></td></tr><tr><td>Value</td><td><span>Unlabeled</span></td></tr></tbody></table></div></details></td></tr><tr><td>1</td><td><details class=\"dni-treeview\"><summary><span class=\"dni-code-hint\"><code>[Area, 3]</code></span></summary><div><table><thead><tr></tr></thead><tbody><tr><td>Key</td><td><div class=\"dni-plaintext\"><pre>Area</pre></div></td></tr><tr><td>Value</td><td><div class=\"dni-plaintext\"><pre>3</pre></div></td></tr></tbody></table></div></details></td></tr><tr><td>2</td><td><details class=\"dni-treeview\"><summary><span class=\"dni-code-hint\"><code>[Title, osx-x64 Release AllSubsets_Mono_Minijit_RuntimeTests minijit build leg fails to build with an error referencing a macosx12.0]</code></span></summary><div><table><thead><tr></tr></thead><tbody><tr><td>Key</td><td><div class=\"dni-plaintext\"><pre>Title</pre></div></td></tr><tr><td>Value</td><td><span>osx-x64 Release AllSubsets_Mono_Minijit_RuntimeTests minijit build leg fails to build with an error referencing a macosx12.0</span></td></tr></tbody></table></div></details></td></tr><tr><td>3</td><td><details class=\"dni-treeview\"><summary><span class=\"dni-code-hint\"><code>[Title, Sparse vector of size 2202, 75 explicit values]</code></span></summary><div><table><thead><tr></tr></thead><tbody><tr><td>Key</td><td><div class=\"dni-plaintext\"><pre>Title</pre></div></td></tr><tr><td>Value</td><td><details class=\"dni-treeview\"><summary><span class=\"dni-code-hint\"><code>[ 0.10540926, 0.10540926, 0.10540926, 0.10540926, 0.10540926, 0.10540926, 0.10540926, 0.10540926, 0.10540926, 0.10540926, 0.10540926, 0.10540926, 0.10540926, 0.10540926, 0.10540926, 0.10540926, 0.10540926, 0.10540926, 0.10540926, 0.10540926 ... (more) ]</code></span></summary><div><table><thead><tr></tr></thead><tbody><tr><td>IsDense</td><td><div class=\"dni-plaintext\"><pre>False</pre></div></td></tr><tr><td>Length</td><td><div class=\"dni-plaintext\"><pre>2202</pre></div></td></tr><tr><td><i>(values)</i></td><td><div class=\"dni-plaintext\"><pre>[ 0.10540926, 0.10540926, 0.10540926, 0.10540926, 0.10540926, 0.10540926, 0.10540926, 0.10540926, 0.10540926, 0.10540926, 0.10540926, 0.10540926, 0.10540926, 0.10540926, 0.10540926, 0.10540926, 0.10540926, 0.10540926, 0.10540926, 0.10540926 ... (more) ]</pre></div></td></tr></tbody></table></div></details></td></tr></tbody></table></div></details></td></tr><tr><td>4</td><td><details class=\"dni-treeview\"><summary><span class=\"dni-code-hint\"><code>[Features, Sparse vector of size 2202, 75 explicit values]</code></span></summary><div><table><thead><tr></tr></thead><tbody><tr><td>Key</td><td><div class=\"dni-plaintext\"><pre>Features</pre></div></td></tr><tr><td>Value</td><td><details class=\"dni-treeview\"><summary><span class=\"dni-code-hint\"><code>[ 0.10540926, 0.10540926, 0.10540926, 0.10540926, 0.10540926, 0.10540926, 0.10540926, 0.10540926, 0.10540926, 0.10540926, 0.10540926, 0.10540926, 0.10540926, 0.10540926, 0.10540926, 0.10540926, 0.10540926, 0.10540926, 0.10540926, 0.10540926 ... (more) ]</code></span></summary><div><table><thead><tr></tr></thead><tbody><tr><td>IsDense</td><td><div class=\"dni-plaintext\"><pre>False</pre></div></td></tr><tr><td>Length</td><td><div class=\"dni-plaintext\"><pre>2202</pre></div></td></tr><tr><td><i>(values)</i></td><td><div class=\"dni-plaintext\"><pre>[ 0.10540926, 0.10540926, 0.10540926, 0.10540926, 0.10540926, 0.10540926, 0.10540926, 0.10540926, 0.10540926, 0.10540926, 0.10540926, 0.10540926, 0.10540926, 0.10540926, 0.10540926, 0.10540926, 0.10540926, 0.10540926, 0.10540926, 0.10540926 ... (more) ]</pre></div></td></tr></tbody></table></div></details></td></tr></tbody></table></div></details></td></tr><tr><td>5</td><td><details class=\"dni-treeview\"><summary><span class=\"dni-code-hint\"><code>[PredictedLabel, 1]</code></span></summary><div><table><thead><tr></tr></thead><tbody><tr><td>Key</td><td><div class=\"dni-plaintext\"><pre>PredictedLabel</pre></div></td></tr><tr><td>Value</td><td><div class=\"dni-plaintext\"><pre>1</pre></div></td></tr></tbody></table></div></details></td></tr><tr><td>6</td><td><details class=\"dni-treeview\"><summary><span class=\"dni-code-hint\"><code>[PredictedLabel, area-System.Threading]</code></span></summary><div><table><thead><tr></tr></thead><tbody><tr><td>Key</td><td><div class=\"dni-plaintext\"><pre>PredictedLabel</pre></div></td></tr><tr><td>Value</td><td><span>area-System.Threading</span></td></tr></tbody></table></div></details></td></tr><tr><td>7</td><td><details class=\"dni-treeview\"><summary><span class=\"dni-code-hint\"><code>[Score, Dense vector of size 30]</code></span></summary><div><table><thead><tr></tr></thead><tbody><tr><td>Key</td><td><div class=\"dni-plaintext\"><pre>Score</pre></div></td></tr><tr><td>Value</td><td><details class=\"dni-treeview\"><summary><span class=\"dni-code-hint\"><code>[ 0.033333335, 0.033333335, 0.033333335, 0.033333335, 0.033333335, 0.033333335, 0.033333335, 0.033333335, 0.033333335, 0.033333335, 0.033333335, 0.033333335, 0.033333335, 0.033333335, 0.033333335, 0.033333335, 0.033333335, 0.033333335, 0.033333335, 0.033333335 ... (more) ]</code></span></summary><div><table><thead><tr></tr></thead><tbody><tr><td>IsDense</td><td><div class=\"dni-plaintext\"><pre>True</pre></div></td></tr><tr><td>Length</td><td><div class=\"dni-plaintext\"><pre>30</pre></div></td></tr><tr><td><i>(values)</i></td><td><div class=\"dni-plaintext\"><pre>[ 0.033333335, 0.033333335, 0.033333335, 0.033333335, 0.033333335, 0.033333335, 0.033333335, 0.033333335, 0.033333335, 0.033333335, 0.033333335, 0.033333335, 0.033333335, 0.033333335, 0.033333335, 0.033333335, 0.033333335, 0.033333335, 0.033333335, 0.033333335 ... (more) ]</pre></div></td></tr></tbody></table></div></details></td></tr></tbody></table></div></details></td></tr></tbody></table></td></tr></tbody></table></div></details></td></tr><tr><td>1</td><td><details class=\"dni-treeview\"><summary><span class=\"dni-code-hint\"><code>8 columns</code></span></summary><div><table><thead><tr></tr></thead><tbody><tr><td>Values</td><td><table><thead><tr><th><i>index</i></th><th>value</th></tr></thead><tbody><tr><td>0</td><td><details class=\"dni-treeview\"><summary><span class=\"dni-code-hint\"><code>[Area, area-Build-mono]</code></span></summary><div><table><thead><tr></tr></thead><tbody><tr><td>Key</td><td><div class=\"dni-plaintext\"><pre>Area</pre></div></td></tr><tr><td>Value</td><td><span>area-Build-mono</span></td></tr></tbody></table></div></details></td></tr><tr><td>1</td><td><details class=\"dni-treeview\"><summary><span class=\"dni-code-hint\"><code>[Area, 11]</code></span></summary><div><table><thead><tr></tr></thead><tbody><tr><td>Key</td><td><div class=\"dni-plaintext\"><pre>Area</pre></div></td></tr><tr><td>Value</td><td><div class=\"dni-plaintext\"><pre>11</pre></div></td></tr></tbody></table></div></details></td></tr><tr><td>2</td><td><details class=\"dni-treeview\"><summary><span class=\"dni-code-hint\"><code>[Title, The &#39;wasi-experimental&#39; workload is not supported in .NET 9]</code></span></summary><div><table><thead><tr></tr></thead><tbody><tr><td>Key</td><td><div class=\"dni-plaintext\"><pre>Title</pre></div></td></tr><tr><td>Value</td><td><span>The &#39;wasi-experimental&#39; workload is not supported in .NET 9</span></td></tr></tbody></table></div></details></td></tr><tr><td>3</td><td><details class=\"dni-treeview\"><summary><span class=\"dni-code-hint\"><code>[Title, Sparse vector of size 2202, 46 explicit values]</code></span></summary><div><table><thead><tr></tr></thead><tbody><tr><td>Key</td><td><div class=\"dni-plaintext\"><pre>Title</pre></div></td></tr><tr><td>Value</td><td><details class=\"dni-treeview\"><summary><span class=\"dni-code-hint\"><code>[ 0.1490712, 0.1490712, 0.1490712, 0.2981424, 0.1490712, 0.1490712, 0.1490712, 0.1490712, 0.1490712, 0.1490712, 0.1490712, 0.1490712, 0.1490712, 0.1490712, 0.1490712, 0.1490712, 0.1490712, 0.1490712, 0.1490712, 0.1490712 ... (more) ]</code></span></summary><div><table><thead><tr></tr></thead><tbody><tr><td>IsDense</td><td><div class=\"dni-plaintext\"><pre>False</pre></div></td></tr><tr><td>Length</td><td><div class=\"dni-plaintext\"><pre>2202</pre></div></td></tr><tr><td><i>(values)</i></td><td><div class=\"dni-plaintext\"><pre>[ 0.1490712, 0.1490712, 0.1490712, 0.2981424, 0.1490712, 0.1490712, 0.1490712, 0.1490712, 0.1490712, 0.1490712, 0.1490712, 0.1490712, 0.1490712, 0.1490712, 0.1490712, 0.1490712, 0.1490712, 0.1490712, 0.1490712, 0.1490712 ... (more) ]</pre></div></td></tr></tbody></table></div></details></td></tr></tbody></table></div></details></td></tr><tr><td>4</td><td><details class=\"dni-treeview\"><summary><span class=\"dni-code-hint\"><code>[Features, Sparse vector of size 2202, 46 explicit values]</code></span></summary><div><table><thead><tr></tr></thead><tbody><tr><td>Key</td><td><div class=\"dni-plaintext\"><pre>Features</pre></div></td></tr><tr><td>Value</td><td><details class=\"dni-treeview\"><summary><span class=\"dni-code-hint\"><code>[ 0.1490712, 0.1490712, 0.1490712, 0.2981424, 0.1490712, 0.1490712, 0.1490712, 0.1490712, 0.1490712, 0.1490712, 0.1490712, 0.1490712, 0.1490712, 0.1490712, 0.1490712, 0.1490712, 0.1490712, 0.1490712, 0.1490712, 0.1490712 ... (more) ]</code></span></summary><div><table><thead><tr></tr></thead><tbody><tr><td>IsDense</td><td><div class=\"dni-plaintext\"><pre>False</pre></div></td></tr><tr><td>Length</td><td><div class=\"dni-plaintext\"><pre>2202</pre></div></td></tr><tr><td><i>(values)</i></td><td><div class=\"dni-plaintext\"><pre>[ 0.1490712, 0.1490712, 0.1490712, 0.2981424, 0.1490712, 0.1490712, 0.1490712, 0.1490712, 0.1490712, 0.1490712, 0.1490712, 0.1490712, 0.1490712, 0.1490712, 0.1490712, 0.1490712, 0.1490712, 0.1490712, 0.1490712, 0.1490712 ... (more) ]</pre></div></td></tr></tbody></table></div></details></td></tr></tbody></table></div></details></td></tr><tr><td>5</td><td><details class=\"dni-treeview\"><summary><span class=\"dni-code-hint\"><code>[PredictedLabel, 1]</code></span></summary><div><table><thead><tr></tr></thead><tbody><tr><td>Key</td><td><div class=\"dni-plaintext\"><pre>PredictedLabel</pre></div></td></tr><tr><td>Value</td><td><div class=\"dni-plaintext\"><pre>1</pre></div></td></tr></tbody></table></div></details></td></tr><tr><td>6</td><td><details class=\"dni-treeview\"><summary><span class=\"dni-code-hint\"><code>[PredictedLabel, area-System.Threading]</code></span></summary><div><table><thead><tr></tr></thead><tbody><tr><td>Key</td><td><div class=\"dni-plaintext\"><pre>PredictedLabel</pre></div></td></tr><tr><td>Value</td><td><span>area-System.Threading</span></td></tr></tbody></table></div></details></td></tr><tr><td>7</td><td><details class=\"dni-treeview\"><summary><span class=\"dni-code-hint\"><code>[Score, Dense vector of size 30]</code></span></summary><div><table><thead><tr></tr></thead><tbody><tr><td>Key</td><td><div class=\"dni-plaintext\"><pre>Score</pre></div></td></tr><tr><td>Value</td><td><details class=\"dni-treeview\"><summary><span class=\"dni-code-hint\"><code>[ 0.033333335, 0.033333335, 0.033333335, 0.033333335, 0.033333335, 0.033333335, 0.033333335, 0.033333335, 0.033333335, 0.033333335, 0.033333335, 0.033333335, 0.033333335, 0.033333335, 0.033333335, 0.033333335, 0.033333335, 0.033333335, 0.033333335, 0.033333335 ... (more) ]</code></span></summary><div><table><thead><tr></tr></thead><tbody><tr><td>IsDense</td><td><div class=\"dni-plaintext\"><pre>True</pre></div></td></tr><tr><td>Length</td><td><div class=\"dni-plaintext\"><pre>30</pre></div></td></tr><tr><td><i>(values)</i></td><td><div class=\"dni-plaintext\"><pre>[ 0.033333335, 0.033333335, 0.033333335, 0.033333335, 0.033333335, 0.033333335, 0.033333335, 0.033333335, 0.033333335, 0.033333335, 0.033333335, 0.033333335, 0.033333335, 0.033333335, 0.033333335, 0.033333335, 0.033333335, 0.033333335, 0.033333335, 0.033333335 ... (more) ]</pre></div></td></tr></tbody></table></div></details></td></tr></tbody></table></div></details></td></tr></tbody></table></td></tr></tbody></table></div></details></td></tr><tr><td>2</td><td><details class=\"dni-treeview\"><summary><span class=\"dni-code-hint\"><code>8 columns</code></span></summary><div><table><thead><tr></tr></thead><tbody><tr><td>Values</td><td><table><thead><tr><th><i>index</i></th><th>value</th></tr></thead><tbody><tr><td>0</td><td><details class=\"dni-treeview\"><summary><span class=\"dni-code-hint\"><code>[Area, area-VM-coreclr]</code></span></summary><div><table><thead><tr></tr></thead><tbody><tr><td>Key</td><td><div class=\"dni-plaintext\"><pre>Area</pre></div></td></tr><tr><td>Value</td><td><span>area-VM-coreclr</span></td></tr></tbody></table></div></details></td></tr><tr><td>1</td><td><details class=\"dni-treeview\"><summary><span class=\"dni-code-hint\"><code>[Area, 0]</code></span></summary><div><table><thead><tr></tr></thead><tbody><tr><td>Key</td><td><div class=\"dni-plaintext\"><pre>Area</pre></div></td></tr><tr><td>Value</td><td><div class=\"dni-plaintext\"><pre>0</pre></div></td></tr></tbody></table></div></details></td></tr><tr><td>2</td><td><details class=\"dni-treeview\"><summary><span class=\"dni-code-hint\"><code>[Title, Apple Sillicon Rosetta2 .NET9 deadlock]</code></span></summary><div><table><thead><tr></tr></thead><tbody><tr><td>Key</td><td><div class=\"dni-plaintext\"><pre>Title</pre></div></td></tr><tr><td>Value</td><td><span>Apple Sillicon Rosetta2 .NET9 deadlock</span></td></tr></tbody></table></div></details></td></tr><tr><td>3</td><td><details class=\"dni-treeview\"><summary><span class=\"dni-code-hint\"><code>[Title, Sparse vector of size 2202, 23 explicit values]</code></span></summary><div><table><thead><tr></tr></thead><tbody><tr><td>Key</td><td><div class=\"dni-plaintext\"><pre>Title</pre></div></td></tr><tr><td>Value</td><td><details class=\"dni-treeview\"><summary><span class=\"dni-code-hint\"><code>[ 0.21320072, 0.21320072, 0.21320072, 0.21320072, 0.21320072, 0.21320072, 0.21320072, 0.21320072, 0.21320072, 0.21320072, 0.21320072, 0.21320072, 0.21320072, 0.21320072, 0.21320072, 0.21320072, 0.21320072, 0.21320072, 0.21320072, 0.21320072 ... (more) ]</code></span></summary><div><table><thead><tr></tr></thead><tbody><tr><td>IsDense</td><td><div class=\"dni-plaintext\"><pre>False</pre></div></td></tr><tr><td>Length</td><td><div class=\"dni-plaintext\"><pre>2202</pre></div></td></tr><tr><td><i>(values)</i></td><td><div class=\"dni-plaintext\"><pre>[ 0.21320072, 0.21320072, 0.21320072, 0.21320072, 0.21320072, 0.21320072, 0.21320072, 0.21320072, 0.21320072, 0.21320072, 0.21320072, 0.21320072, 0.21320072, 0.21320072, 0.21320072, 0.21320072, 0.21320072, 0.21320072, 0.21320072, 0.21320072 ... (more) ]</pre></div></td></tr></tbody></table></div></details></td></tr></tbody></table></div></details></td></tr><tr><td>4</td><td><details class=\"dni-treeview\"><summary><span class=\"dni-code-hint\"><code>[Features, Sparse vector of size 2202, 23 explicit values]</code></span></summary><div><table><thead><tr></tr></thead><tbody><tr><td>Key</td><td><div class=\"dni-plaintext\"><pre>Features</pre></div></td></tr><tr><td>Value</td><td><details class=\"dni-treeview\"><summary><span class=\"dni-code-hint\"><code>[ 0.21320072, 0.21320072, 0.21320072, 0.21320072, 0.21320072, 0.21320072, 0.21320072, 0.21320072, 0.21320072, 0.21320072, 0.21320072, 0.21320072, 0.21320072, 0.21320072, 0.21320072, 0.21320072, 0.21320072, 0.21320072, 0.21320072, 0.21320072 ... (more) ]</code></span></summary><div><table><thead><tr></tr></thead><tbody><tr><td>IsDense</td><td><div class=\"dni-plaintext\"><pre>False</pre></div></td></tr><tr><td>Length</td><td><div class=\"dni-plaintext\"><pre>2202</pre></div></td></tr><tr><td><i>(values)</i></td><td><div class=\"dni-plaintext\"><pre>[ 0.21320072, 0.21320072, 0.21320072, 0.21320072, 0.21320072, 0.21320072, 0.21320072, 0.21320072, 0.21320072, 0.21320072, 0.21320072, 0.21320072, 0.21320072, 0.21320072, 0.21320072, 0.21320072, 0.21320072, 0.21320072, 0.21320072, 0.21320072 ... (more) ]</pre></div></td></tr></tbody></table></div></details></td></tr></tbody></table></div></details></td></tr><tr><td>5</td><td><details class=\"dni-treeview\"><summary><span class=\"dni-code-hint\"><code>[PredictedLabel, 1]</code></span></summary><div><table><thead><tr></tr></thead><tbody><tr><td>Key</td><td><div class=\"dni-plaintext\"><pre>PredictedLabel</pre></div></td></tr><tr><td>Value</td><td><div class=\"dni-plaintext\"><pre>1</pre></div></td></tr></tbody></table></div></details></td></tr><tr><td>6</td><td><details class=\"dni-treeview\"><summary><span class=\"dni-code-hint\"><code>[PredictedLabel, area-System.Threading]</code></span></summary><div><table><thead><tr></tr></thead><tbody><tr><td>Key</td><td><div class=\"dni-plaintext\"><pre>PredictedLabel</pre></div></td></tr><tr><td>Value</td><td><span>area-System.Threading</span></td></tr></tbody></table></div></details></td></tr><tr><td>7</td><td><details class=\"dni-treeview\"><summary><span class=\"dni-code-hint\"><code>[Score, Dense vector of size 30]</code></span></summary><div><table><thead><tr></tr></thead><tbody><tr><td>Key</td><td><div class=\"dni-plaintext\"><pre>Score</pre></div></td></tr><tr><td>Value</td><td><details class=\"dni-treeview\"><summary><span class=\"dni-code-hint\"><code>[ 0.033333335, 0.033333335, 0.033333335, 0.033333335, 0.033333335, 0.033333335, 0.033333335, 0.033333335, 0.033333335, 0.033333335, 0.033333335, 0.033333335, 0.033333335, 0.033333335, 0.033333335, 0.033333335, 0.033333335, 0.033333335, 0.033333335, 0.033333335 ... (more) ]</code></span></summary><div><table><thead><tr></tr></thead><tbody><tr><td>IsDense</td><td><div class=\"dni-plaintext\"><pre>True</pre></div></td></tr><tr><td>Length</td><td><div class=\"dni-plaintext\"><pre>30</pre></div></td></tr><tr><td><i>(values)</i></td><td><div class=\"dni-plaintext\"><pre>[ 0.033333335, 0.033333335, 0.033333335, 0.033333335, 0.033333335, 0.033333335, 0.033333335, 0.033333335, 0.033333335, 0.033333335, 0.033333335, 0.033333335, 0.033333335, 0.033333335, 0.033333335, 0.033333335, 0.033333335, 0.033333335, 0.033333335, 0.033333335 ... (more) ]</pre></div></td></tr></tbody></table></div></details></td></tr></tbody></table></div></details></td></tr></tbody></table></td></tr></tbody></table></div></details></td></tr><tr><td>3</td><td><details class=\"dni-treeview\"><summary><span class=\"dni-code-hint\"><code>8 columns</code></span></summary><div><table><thead><tr></tr></thead><tbody><tr><td>Values</td><td><table><thead><tr><th><i>index</i></th><th>value</th></tr></thead><tbody><tr><td>0</td><td><details class=\"dni-treeview\"><summary><span class=\"dni-code-hint\"><code>[Area, area-System.Runtime.InteropServices]</code></span></summary><div><table><thead><tr></tr></thead><tbody><tr><td>Key</td><td><div class=\"dni-plaintext\"><pre>Area</pre></div></td></tr><tr><td>Value</td><td><span>area-System.Runtime.InteropServices</span></td></tr></tbody></table></div></details></td></tr><tr><td>1</td><td><details class=\"dni-treeview\"><summary><span class=\"dni-code-hint\"><code>[Area, 26]</code></span></summary><div><table><thead><tr></tr></thead><tbody><tr><td>Key</td><td><div class=\"dni-plaintext\"><pre>Area</pre></div></td></tr><tr><td>Value</td><td><div class=\"dni-plaintext\"><pre>26</pre></div></td></tr></tbody></table></div></details></td></tr><tr><td>2</td><td><details class=\"dni-treeview\"><summary><span class=\"dni-code-hint\"><code>[Title, .NET and Native AOT improvements for CsWinRT 3.0]</code></span></summary><div><table><thead><tr></tr></thead><tbody><tr><td>Key</td><td><div class=\"dni-plaintext\"><pre>Title</pre></div></td></tr><tr><td>Value</td><td><span>.NET and Native AOT improvements for CsWinRT 3.0</span></td></tr></tbody></table></div></details></td></tr><tr><td>3</td><td><details class=\"dni-treeview\"><summary><span class=\"dni-code-hint\"><code>[Title, Sparse vector of size 2202, 36 explicit values]</code></span></summary><div><table><thead><tr></tr></thead><tbody><tr><td>Key</td><td><div class=\"dni-plaintext\"><pre>Title</pre></div></td></tr><tr><td>Value</td><td><details class=\"dni-treeview\"><summary><span class=\"dni-code-hint\"><code>[ 0.17407766, 0.17407766, 0.17407766, 0.17407766, 0.17407766, 0.17407766, 0.17407766, 0.17407766, 0.17407766, 0.17407766, 0.17407766, 0.17407766, 0.17407766, 0.17407766, 0.17407766, 0.17407766, 0.17407766, 0.17407766, 0.17407766, 0.17407766 ... (more) ]</code></span></summary><div><table><thead><tr></tr></thead><tbody><tr><td>IsDense</td><td><div class=\"dni-plaintext\"><pre>False</pre></div></td></tr><tr><td>Length</td><td><div class=\"dni-plaintext\"><pre>2202</pre></div></td></tr><tr><td><i>(values)</i></td><td><div class=\"dni-plaintext\"><pre>[ 0.17407766, 0.17407766, 0.17407766, 0.17407766, 0.17407766, 0.17407766, 0.17407766, 0.17407766, 0.17407766, 0.17407766, 0.17407766, 0.17407766, 0.17407766, 0.17407766, 0.17407766, 0.17407766, 0.17407766, 0.17407766, 0.17407766, 0.17407766 ... (more) ]</pre></div></td></tr></tbody></table></div></details></td></tr></tbody></table></div></details></td></tr><tr><td>4</td><td><details class=\"dni-treeview\"><summary><span class=\"dni-code-hint\"><code>[Features, Sparse vector of size 2202, 36 explicit values]</code></span></summary><div><table><thead><tr></tr></thead><tbody><tr><td>Key</td><td><div class=\"dni-plaintext\"><pre>Features</pre></div></td></tr><tr><td>Value</td><td><details class=\"dni-treeview\"><summary><span class=\"dni-code-hint\"><code>[ 0.17407766, 0.17407766, 0.17407766, 0.17407766, 0.17407766, 0.17407766, 0.17407766, 0.17407766, 0.17407766, 0.17407766, 0.17407766, 0.17407766, 0.17407766, 0.17407766, 0.17407766, 0.17407766, 0.17407766, 0.17407766, 0.17407766, 0.17407766 ... (more) ]</code></span></summary><div><table><thead><tr></tr></thead><tbody><tr><td>IsDense</td><td><div class=\"dni-plaintext\"><pre>False</pre></div></td></tr><tr><td>Length</td><td><div class=\"dni-plaintext\"><pre>2202</pre></div></td></tr><tr><td><i>(values)</i></td><td><div class=\"dni-plaintext\"><pre>[ 0.17407766, 0.17407766, 0.17407766, 0.17407766, 0.17407766, 0.17407766, 0.17407766, 0.17407766, 0.17407766, 0.17407766, 0.17407766, 0.17407766, 0.17407766, 0.17407766, 0.17407766, 0.17407766, 0.17407766, 0.17407766, 0.17407766, 0.17407766 ... (more) ]</pre></div></td></tr></tbody></table></div></details></td></tr></tbody></table></div></details></td></tr><tr><td>5</td><td><details class=\"dni-treeview\"><summary><span class=\"dni-code-hint\"><code>[PredictedLabel, 1]</code></span></summary><div><table><thead><tr></tr></thead><tbody><tr><td>Key</td><td><div class=\"dni-plaintext\"><pre>PredictedLabel</pre></div></td></tr><tr><td>Value</td><td><div class=\"dni-plaintext\"><pre>1</pre></div></td></tr></tbody></table></div></details></td></tr><tr><td>6</td><td><details class=\"dni-treeview\"><summary><span class=\"dni-code-hint\"><code>[PredictedLabel, area-System.Threading]</code></span></summary><div><table><thead><tr></tr></thead><tbody><tr><td>Key</td><td><div class=\"dni-plaintext\"><pre>PredictedLabel</pre></div></td></tr><tr><td>Value</td><td><span>area-System.Threading</span></td></tr></tbody></table></div></details></td></tr><tr><td>7</td><td><details class=\"dni-treeview\"><summary><span class=\"dni-code-hint\"><code>[Score, Dense vector of size 30]</code></span></summary><div><table><thead><tr></tr></thead><tbody><tr><td>Key</td><td><div class=\"dni-plaintext\"><pre>Score</pre></div></td></tr><tr><td>Value</td><td><details class=\"dni-treeview\"><summary><span class=\"dni-code-hint\"><code>[ 0.033333335, 0.033333335, 0.033333335, 0.033333335, 0.033333335, 0.033333335, 0.033333335, 0.033333335, 0.033333335, 0.033333335, 0.033333335, 0.033333335, 0.033333335, 0.033333335, 0.033333335, 0.033333335, 0.033333335, 0.033333335, 0.033333335, 0.033333335 ... (more) ]</code></span></summary><div><table><thead><tr></tr></thead><tbody><tr><td>IsDense</td><td><div class=\"dni-plaintext\"><pre>True</pre></div></td></tr><tr><td>Length</td><td><div class=\"dni-plaintext\"><pre>30</pre></div></td></tr><tr><td><i>(values)</i></td><td><div class=\"dni-plaintext\"><pre>[ 0.033333335, 0.033333335, 0.033333335, 0.033333335, 0.033333335, 0.033333335, 0.033333335, 0.033333335, 0.033333335, 0.033333335, 0.033333335, 0.033333335, 0.033333335, 0.033333335, 0.033333335, 0.033333335, 0.033333335, 0.033333335, 0.033333335, 0.033333335 ... (more) ]</pre></div></td></tr></tbody></table></div></details></td></tr></tbody></table></div></details></td></tr></tbody></table></td></tr></tbody></table></div></details></td></tr><tr><td>4</td><td><details class=\"dni-treeview\"><summary><span class=\"dni-code-hint\"><code>8 columns</code></span></summary><div><table><thead><tr></tr></thead><tbody><tr><td>Values</td><td><table><thead><tr><th><i>index</i></th><th>value</th></tr></thead><tbody><tr><td>0</td><td><details class=\"dni-treeview\"><summary><span class=\"dni-code-hint\"><code>[Area, area-System.Threading]</code></span></summary><div><table><thead><tr></tr></thead><tbody><tr><td>Key</td><td><div class=\"dni-plaintext\"><pre>Area</pre></div></td></tr><tr><td>Value</td><td><span>area-System.Threading</span></td></tr></tbody></table></div></details></td></tr><tr><td>1</td><td><details class=\"dni-treeview\"><summary><span class=\"dni-code-hint\"><code>[Area, 1]</code></span></summary><div><table><thead><tr></tr></thead><tbody><tr><td>Key</td><td><div class=\"dni-plaintext\"><pre>Area</pre></div></td></tr><tr><td>Value</td><td><div class=\"dni-plaintext\"><pre>1</pre></div></td></tr></tbody></table></div></details></td></tr><tr><td>2</td><td><details class=\"dni-treeview\"><summary><span class=\"dni-code-hint\"><code>[Title, [API Proposal]: Add PartitionedRateLimiter.TryReplenish]</code></span></summary><div><table><thead><tr></tr></thead><tbody><tr><td>Key</td><td><div class=\"dni-plaintext\"><pre>Title</pre></div></td></tr><tr><td>Value</td><td><span>[API Proposal]: Add PartitionedRateLimiter.TryReplenish</span></td></tr></tbody></table></div></details></td></tr><tr><td>3</td><td><details class=\"dni-treeview\"><summary><span class=\"dni-code-hint\"><code>[Title, Sparse vector of size 2202, 42 explicit values]</code></span></summary><div><table><thead><tr></tr></thead><tbody><tr><td>Key</td><td><div class=\"dni-plaintext\"><pre>Title</pre></div></td></tr><tr><td>Value</td><td><details class=\"dni-treeview\"><summary><span class=\"dni-code-hint\"><code>[ 0.16439898, 0.16439898, 0.16439898, 0.16439898, 0.16439898, 0.16439898, 0.16439898, 0.16439898, 0.16439898, 0.16439898, 0.16439898, 0.16439898, 0.16439898, 0.16439898, 0.16439898, 0.16439898, 0.16439898, 0.16439898, 0.16439898, 0.16439898 ... (more) ]</code></span></summary><div><table><thead><tr></tr></thead><tbody><tr><td>IsDense</td><td><div class=\"dni-plaintext\"><pre>False</pre></div></td></tr><tr><td>Length</td><td><div class=\"dni-plaintext\"><pre>2202</pre></div></td></tr><tr><td><i>(values)</i></td><td><div class=\"dni-plaintext\"><pre>[ 0.16439898, 0.16439898, 0.16439898, 0.16439898, 0.16439898, 0.16439898, 0.16439898, 0.16439898, 0.16439898, 0.16439898, 0.16439898, 0.16439898, 0.16439898, 0.16439898, 0.16439898, 0.16439898, 0.16439898, 0.16439898, 0.16439898, 0.16439898 ... (more) ]</pre></div></td></tr></tbody></table></div></details></td></tr></tbody></table></div></details></td></tr><tr><td>4</td><td><details class=\"dni-treeview\"><summary><span class=\"dni-code-hint\"><code>[Features, Sparse vector of size 2202, 42 explicit values]</code></span></summary><div><table><thead><tr></tr></thead><tbody><tr><td>Key</td><td><div class=\"dni-plaintext\"><pre>Features</pre></div></td></tr><tr><td>Value</td><td><details class=\"dni-treeview\"><summary><span class=\"dni-code-hint\"><code>[ 0.16439898, 0.16439898, 0.16439898, 0.16439898, 0.16439898, 0.16439898, 0.16439898, 0.16439898, 0.16439898, 0.16439898, 0.16439898, 0.16439898, 0.16439898, 0.16439898, 0.16439898, 0.16439898, 0.16439898, 0.16439898, 0.16439898, 0.16439898 ... (more) ]</code></span></summary><div><table><thead><tr></tr></thead><tbody><tr><td>IsDense</td><td><div class=\"dni-plaintext\"><pre>False</pre></div></td></tr><tr><td>Length</td><td><div class=\"dni-plaintext\"><pre>2202</pre></div></td></tr><tr><td><i>(values)</i></td><td><div class=\"dni-plaintext\"><pre>[ 0.16439898, 0.16439898, 0.16439898, 0.16439898, 0.16439898, 0.16439898, 0.16439898, 0.16439898, 0.16439898, 0.16439898, 0.16439898, 0.16439898, 0.16439898, 0.16439898, 0.16439898, 0.16439898, 0.16439898, 0.16439898, 0.16439898, 0.16439898 ... (more) ]</pre></div></td></tr></tbody></table></div></details></td></tr></tbody></table></div></details></td></tr><tr><td>5</td><td><details class=\"dni-treeview\"><summary><span class=\"dni-code-hint\"><code>[PredictedLabel, 1]</code></span></summary><div><table><thead><tr></tr></thead><tbody><tr><td>Key</td><td><div class=\"dni-plaintext\"><pre>PredictedLabel</pre></div></td></tr><tr><td>Value</td><td><div class=\"dni-plaintext\"><pre>1</pre></div></td></tr></tbody></table></div></details></td></tr><tr><td>6</td><td><details class=\"dni-treeview\"><summary><span class=\"dni-code-hint\"><code>[PredictedLabel, area-System.Threading]</code></span></summary><div><table><thead><tr></tr></thead><tbody><tr><td>Key</td><td><div class=\"dni-plaintext\"><pre>PredictedLabel</pre></div></td></tr><tr><td>Value</td><td><span>area-System.Threading</span></td></tr></tbody></table></div></details></td></tr><tr><td>7</td><td><details class=\"dni-treeview\"><summary><span class=\"dni-code-hint\"><code>[Score, Dense vector of size 30]</code></span></summary><div><table><thead><tr></tr></thead><tbody><tr><td>Key</td><td><div class=\"dni-plaintext\"><pre>Score</pre></div></td></tr><tr><td>Value</td><td><details class=\"dni-treeview\"><summary><span class=\"dni-code-hint\"><code>[ 0.033333335, 0.033333335, 0.033333335, 0.033333335, 0.033333335, 0.033333335, 0.033333335, 0.033333335, 0.033333335, 0.033333335, 0.033333335, 0.033333335, 0.033333335, 0.033333335, 0.033333335, 0.033333335, 0.033333335, 0.033333335, 0.033333335, 0.033333335 ... (more) ]</code></span></summary><div><table><thead><tr></tr></thead><tbody><tr><td>IsDense</td><td><div class=\"dni-plaintext\"><pre>True</pre></div></td></tr><tr><td>Length</td><td><div class=\"dni-plaintext\"><pre>30</pre></div></td></tr><tr><td><i>(values)</i></td><td><div class=\"dni-plaintext\"><pre>[ 0.033333335, 0.033333335, 0.033333335, 0.033333335, 0.033333335, 0.033333335, 0.033333335, 0.033333335, 0.033333335, 0.033333335, 0.033333335, 0.033333335, 0.033333335, 0.033333335, 0.033333335, 0.033333335, 0.033333335, 0.033333335, 0.033333335, 0.033333335 ... (more) ]</pre></div></td></tr></tbody></table></div></details></td></tr></tbody></table></div></details></td></tr></tbody></table></td></tr></tbody></table></div></details></td></tr><tr><td>5</td><td><details class=\"dni-treeview\"><summary><span class=\"dni-code-hint\"><code>8 columns</code></span></summary><div><table><thead><tr></tr></thead><tbody><tr><td>Values</td><td><table><thead><tr><th><i>index</i></th><th>value</th></tr></thead><tbody><tr><td>0</td><td><details class=\"dni-treeview\"><summary><span class=\"dni-code-hint\"><code>[Area, area-System.Security]</code></span></summary><div><table><thead><tr></tr></thead><tbody><tr><td>Key</td><td><div class=\"dni-plaintext\"><pre>Area</pre></div></td></tr><tr><td>Value</td><td><span>area-System.Security</span></td></tr></tbody></table></div></details></td></tr><tr><td>1</td><td><details class=\"dni-treeview\"><summary><span class=\"dni-code-hint\"><code>[Area, 2]</code></span></summary><div><table><thead><tr></tr></thead><tbody><tr><td>Key</td><td><div class=\"dni-plaintext\"><pre>Area</pre></div></td></tr><tr><td>Value</td><td><div class=\"dni-plaintext\"><pre>2</pre></div></td></tr></tbody></table></div></details></td></tr><tr><td>2</td><td><details class=\"dni-treeview\"><summary><span class=\"dni-code-hint\"><code>[Title, [PERF] Occasionally hitting CryptographicException on performance CI runs]</code></span></summary><div><table><thead><tr></tr></thead><tbody><tr><td>Key</td><td><div class=\"dni-plaintext\"><pre>Title</pre></div></td></tr><tr><td>Value</td><td><span>[PERF] Occasionally hitting CryptographicException on performance CI runs</span></td></tr></tbody></table></div></details></td></tr><tr><td>3</td><td><details class=\"dni-treeview\"><summary><span class=\"dni-code-hint\"><code>[Title, Sparse vector of size 2202, 49 explicit values]</code></span></summary><div><table><thead><tr></tr></thead><tbody><tr><td>Key</td><td><div class=\"dni-plaintext\"><pre>Title</pre></div></td></tr><tr><td>Value</td><td><details class=\"dni-treeview\"><summary><span class=\"dni-code-hint\"><code>[ 0.13018891, 0.13018891, 0.26037782, 0.13018891, 0.26037782, 0.13018891, 0.13018891, 0.13018891, 0.13018891, 0.13018891, 0.26037782, 0.13018891, 0.13018891, 0.13018891, 0.13018891, 0.13018891, 0.13018891, 0.13018891, 0.13018891, 0.13018891 ... (more) ]</code></span></summary><div><table><thead><tr></tr></thead><tbody><tr><td>IsDense</td><td><div class=\"dni-plaintext\"><pre>False</pre></div></td></tr><tr><td>Length</td><td><div class=\"dni-plaintext\"><pre>2202</pre></div></td></tr><tr><td><i>(values)</i></td><td><div class=\"dni-plaintext\"><pre>[ 0.13018891, 0.13018891, 0.26037782, 0.13018891, 0.26037782, 0.13018891, 0.13018891, 0.13018891, 0.13018891, 0.13018891, 0.26037782, 0.13018891, 0.13018891, 0.13018891, 0.13018891, 0.13018891, 0.13018891, 0.13018891, 0.13018891, 0.13018891 ... (more) ]</pre></div></td></tr></tbody></table></div></details></td></tr></tbody></table></div></details></td></tr><tr><td>4</td><td><details class=\"dni-treeview\"><summary><span class=\"dni-code-hint\"><code>[Features, Sparse vector of size 2202, 49 explicit values]</code></span></summary><div><table><thead><tr></tr></thead><tbody><tr><td>Key</td><td><div class=\"dni-plaintext\"><pre>Features</pre></div></td></tr><tr><td>Value</td><td><details class=\"dni-treeview\"><summary><span class=\"dni-code-hint\"><code>[ 0.13018891, 0.13018891, 0.26037782, 0.13018891, 0.26037782, 0.13018891, 0.13018891, 0.13018891, 0.13018891, 0.13018891, 0.26037782, 0.13018891, 0.13018891, 0.13018891, 0.13018891, 0.13018891, 0.13018891, 0.13018891, 0.13018891, 0.13018891 ... (more) ]</code></span></summary><div><table><thead><tr></tr></thead><tbody><tr><td>IsDense</td><td><div class=\"dni-plaintext\"><pre>False</pre></div></td></tr><tr><td>Length</td><td><div class=\"dni-plaintext\"><pre>2202</pre></div></td></tr><tr><td><i>(values)</i></td><td><div class=\"dni-plaintext\"><pre>[ 0.13018891, 0.13018891, 0.26037782, 0.13018891, 0.26037782, 0.13018891, 0.13018891, 0.13018891, 0.13018891, 0.13018891, 0.26037782, 0.13018891, 0.13018891, 0.13018891, 0.13018891, 0.13018891, 0.13018891, 0.13018891, 0.13018891, 0.13018891 ... (more) ]</pre></div></td></tr></tbody></table></div></details></td></tr></tbody></table></div></details></td></tr><tr><td>5</td><td><details class=\"dni-treeview\"><summary><span class=\"dni-code-hint\"><code>[PredictedLabel, 1]</code></span></summary><div><table><thead><tr></tr></thead><tbody><tr><td>Key</td><td><div class=\"dni-plaintext\"><pre>PredictedLabel</pre></div></td></tr><tr><td>Value</td><td><div class=\"dni-plaintext\"><pre>1</pre></div></td></tr></tbody></table></div></details></td></tr><tr><td>6</td><td><details class=\"dni-treeview\"><summary><span class=\"dni-code-hint\"><code>[PredictedLabel, area-System.Threading]</code></span></summary><div><table><thead><tr></tr></thead><tbody><tr><td>Key</td><td><div class=\"dni-plaintext\"><pre>PredictedLabel</pre></div></td></tr><tr><td>Value</td><td><span>area-System.Threading</span></td></tr></tbody></table></div></details></td></tr><tr><td>7</td><td><details class=\"dni-treeview\"><summary><span class=\"dni-code-hint\"><code>[Score, Dense vector of size 30]</code></span></summary><div><table><thead><tr></tr></thead><tbody><tr><td>Key</td><td><div class=\"dni-plaintext\"><pre>Score</pre></div></td></tr><tr><td>Value</td><td><details class=\"dni-treeview\"><summary><span class=\"dni-code-hint\"><code>[ 0.033333335, 0.033333335, 0.033333335, 0.033333335, 0.033333335, 0.033333335, 0.033333335, 0.033333335, 0.033333335, 0.033333335, 0.033333335, 0.033333335, 0.033333335, 0.033333335, 0.033333335, 0.033333335, 0.033333335, 0.033333335, 0.033333335, 0.033333335 ... (more) ]</code></span></summary><div><table><thead><tr></tr></thead><tbody><tr><td>IsDense</td><td><div class=\"dni-plaintext\"><pre>True</pre></div></td></tr><tr><td>Length</td><td><div class=\"dni-plaintext\"><pre>30</pre></div></td></tr><tr><td><i>(values)</i></td><td><div class=\"dni-plaintext\"><pre>[ 0.033333335, 0.033333335, 0.033333335, 0.033333335, 0.033333335, 0.033333335, 0.033333335, 0.033333335, 0.033333335, 0.033333335, 0.033333335, 0.033333335, 0.033333335, 0.033333335, 0.033333335, 0.033333335, 0.033333335, 0.033333335, 0.033333335, 0.033333335 ... (more) ]</pre></div></td></tr></tbody></table></div></details></td></tr></tbody></table></div></details></td></tr></tbody></table></td></tr></tbody></table></div></details></td></tr><tr><td>6</td><td><details class=\"dni-treeview\"><summary><span class=\"dni-code-hint\"><code>8 columns</code></span></summary><div><table><thead><tr></tr></thead><tbody><tr><td>Values</td><td><table><thead><tr><th><i>index</i></th><th>value</th></tr></thead><tbody><tr><td>0</td><td><details class=\"dni-treeview\"><summary><span class=\"dni-code-hint\"><code>[Area, area-System.Net.Quic]</code></span></summary><div><table><thead><tr></tr></thead><tbody><tr><td>Key</td><td><div class=\"dni-plaintext\"><pre>Area</pre></div></td></tr><tr><td>Value</td><td><span>area-System.Net.Quic</span></td></tr></tbody></table></div></details></td></tr><tr><td>1</td><td><details class=\"dni-treeview\"><summary><span class=\"dni-code-hint\"><code>[Area, 0]</code></span></summary><div><table><thead><tr></tr></thead><tbody><tr><td>Key</td><td><div class=\"dni-plaintext\"><pre>Area</pre></div></td></tr><tr><td>Value</td><td><div class=\"dni-plaintext\"><pre>0</pre></div></td></tr></tbody></table></div></details></td></tr><tr><td>2</td><td><details class=\"dni-treeview\"><summary><span class=\"dni-code-hint\"><code>[Title, TaskScheduler.UnobservedTaskException catches quic exceptions with kestrel combined with grpc + http3]</code></span></summary><div><table><thead><tr></tr></thead><tbody><tr><td>Key</td><td><div class=\"dni-plaintext\"><pre>Title</pre></div></td></tr><tr><td>Value</td><td><span>TaskScheduler.UnobservedTaskException catches quic exceptions with kestrel combined with grpc + http3</span></td></tr></tbody></table></div></details></td></tr><tr><td>3</td><td><details class=\"dni-treeview\"><summary><span class=\"dni-code-hint\"><code>[Title, Sparse vector of size 2202, 40 explicit values]</code></span></summary><div><table><thead><tr></tr></thead><tbody><tr><td>Key</td><td><div class=\"dni-plaintext\"><pre>Title</pre></div></td></tr><tr><td>Value</td><td><details class=\"dni-treeview\"><summary><span class=\"dni-code-hint\"><code>[ 0.115470044, 0.23094009, 0.23094009, 0.23094009, 0.23094009, 0.23094009, 0.23094009, 0.23094009, 0.115470044, 0.115470044, 0.115470044, 0.115470044, 0.115470044, 0.115470044, 0.23094009, 0.23094009, 0.115470044, 0.23094009, 0.23094009, 0.115470044 ... (more) ]</code></span></summary><div><table><thead><tr></tr></thead><tbody><tr><td>IsDense</td><td><div class=\"dni-plaintext\"><pre>False</pre></div></td></tr><tr><td>Length</td><td><div class=\"dni-plaintext\"><pre>2202</pre></div></td></tr><tr><td><i>(values)</i></td><td><div class=\"dni-plaintext\"><pre>[ 0.115470044, 0.23094009, 0.23094009, 0.23094009, 0.23094009, 0.23094009, 0.23094009, 0.23094009, 0.115470044, 0.115470044, 0.115470044, 0.115470044, 0.115470044, 0.115470044, 0.23094009, 0.23094009, 0.115470044, 0.23094009, 0.23094009, 0.115470044 ... (more) ]</pre></div></td></tr></tbody></table></div></details></td></tr></tbody></table></div></details></td></tr><tr><td>4</td><td><details class=\"dni-treeview\"><summary><span class=\"dni-code-hint\"><code>[Features, Sparse vector of size 2202, 40 explicit values]</code></span></summary><div><table><thead><tr></tr></thead><tbody><tr><td>Key</td><td><div class=\"dni-plaintext\"><pre>Features</pre></div></td></tr><tr><td>Value</td><td><details class=\"dni-treeview\"><summary><span class=\"dni-code-hint\"><code>[ 0.115470044, 0.23094009, 0.23094009, 0.23094009, 0.23094009, 0.23094009, 0.23094009, 0.23094009, 0.115470044, 0.115470044, 0.115470044, 0.115470044, 0.115470044, 0.115470044, 0.23094009, 0.23094009, 0.115470044, 0.23094009, 0.23094009, 0.115470044 ... (more) ]</code></span></summary><div><table><thead><tr></tr></thead><tbody><tr><td>IsDense</td><td><div class=\"dni-plaintext\"><pre>False</pre></div></td></tr><tr><td>Length</td><td><div class=\"dni-plaintext\"><pre>2202</pre></div></td></tr><tr><td><i>(values)</i></td><td><div class=\"dni-plaintext\"><pre>[ 0.115470044, 0.23094009, 0.23094009, 0.23094009, 0.23094009, 0.23094009, 0.23094009, 0.23094009, 0.115470044, 0.115470044, 0.115470044, 0.115470044, 0.115470044, 0.115470044, 0.23094009, 0.23094009, 0.115470044, 0.23094009, 0.23094009, 0.115470044 ... (more) ]</pre></div></td></tr></tbody></table></div></details></td></tr></tbody></table></div></details></td></tr><tr><td>5</td><td><details class=\"dni-treeview\"><summary><span class=\"dni-code-hint\"><code>[PredictedLabel, 1]</code></span></summary><div><table><thead><tr></tr></thead><tbody><tr><td>Key</td><td><div class=\"dni-plaintext\"><pre>PredictedLabel</pre></div></td></tr><tr><td>Value</td><td><div class=\"dni-plaintext\"><pre>1</pre></div></td></tr></tbody></table></div></details></td></tr><tr><td>6</td><td><details class=\"dni-treeview\"><summary><span class=\"dni-code-hint\"><code>[PredictedLabel, area-System.Threading]</code></span></summary><div><table><thead><tr></tr></thead><tbody><tr><td>Key</td><td><div class=\"dni-plaintext\"><pre>PredictedLabel</pre></div></td></tr><tr><td>Value</td><td><span>area-System.Threading</span></td></tr></tbody></table></div></details></td></tr><tr><td>7</td><td><details class=\"dni-treeview\"><summary><span class=\"dni-code-hint\"><code>[Score, Dense vector of size 30]</code></span></summary><div><table><thead><tr></tr></thead><tbody><tr><td>Key</td><td><div class=\"dni-plaintext\"><pre>Score</pre></div></td></tr><tr><td>Value</td><td><details class=\"dni-treeview\"><summary><span class=\"dni-code-hint\"><code>[ 0.033333335, 0.033333335, 0.033333335, 0.033333335, 0.033333335, 0.033333335, 0.033333335, 0.033333335, 0.033333335, 0.033333335, 0.033333335, 0.033333335, 0.033333335, 0.033333335, 0.033333335, 0.033333335, 0.033333335, 0.033333335, 0.033333335, 0.033333335 ... (more) ]</code></span></summary><div><table><thead><tr></tr></thead><tbody><tr><td>IsDense</td><td><div class=\"dni-plaintext\"><pre>True</pre></div></td></tr><tr><td>Length</td><td><div class=\"dni-plaintext\"><pre>30</pre></div></td></tr><tr><td><i>(values)</i></td><td><div class=\"dni-plaintext\"><pre>[ 0.033333335, 0.033333335, 0.033333335, 0.033333335, 0.033333335, 0.033333335, 0.033333335, 0.033333335, 0.033333335, 0.033333335, 0.033333335, 0.033333335, 0.033333335, 0.033333335, 0.033333335, 0.033333335, 0.033333335, 0.033333335, 0.033333335, 0.033333335 ... (more) ]</pre></div></td></tr></tbody></table></div></details></td></tr></tbody></table></div></details></td></tr></tbody></table></td></tr></tbody></table></div></details></td></tr><tr><td>7</td><td><details class=\"dni-treeview\"><summary><span class=\"dni-code-hint\"><code>8 columns</code></span></summary><div><table><thead><tr></tr></thead><tbody><tr><td>Values</td><td><table><thead><tr><th><i>index</i></th><th>value</th></tr></thead><tbody><tr><td>0</td><td><details class=\"dni-treeview\"><summary><span class=\"dni-code-hint\"><code>[Area, area-Codegen-Intrinsics-mono]</code></span></summary><div><table><thead><tr></tr></thead><tbody><tr><td>Key</td><td><div class=\"dni-plaintext\"><pre>Area</pre></div></td></tr><tr><td>Value</td><td><span>area-Codegen-Intrinsics-mono</span></td></tr></tbody></table></div></details></td></tr><tr><td>1</td><td><details class=\"dni-treeview\"><summary><span class=\"dni-code-hint\"><code>[Area, 5]</code></span></summary><div><table><thead><tr></tr></thead><tbody><tr><td>Key</td><td><div class=\"dni-plaintext\"><pre>Area</pre></div></td></tr><tr><td>Value</td><td><div class=\"dni-plaintext\"><pre>5</pre></div></td></tr></tbody></table></div></details></td></tr><tr><td>2</td><td><details class=\"dni-treeview\"><summary><span class=\"dni-code-hint\"><code>[Title, [wasm][interpreter] PackedSimd.IsSupported is false until the app is trimmed]</code></span></summary><div><table><thead><tr></tr></thead><tbody><tr><td>Key</td><td><div class=\"dni-plaintext\"><pre>Title</pre></div></td></tr><tr><td>Value</td><td><span>[wasm][interpreter] PackedSimd.IsSupported is false until the app is trimmed</span></td></tr></tbody></table></div></details></td></tr><tr><td>3</td><td><details class=\"dni-treeview\"><summary><span class=\"dni-code-hint\"><code>[Title, Sparse vector of size 2202, 56 explicit values]</code></span></summary><div><table><thead><tr></tr></thead><tbody><tr><td>Key</td><td><div class=\"dni-plaintext\"><pre>Title</pre></div></td></tr><tr><td>Value</td><td><details class=\"dni-treeview\"><summary><span class=\"dni-code-hint\"><code>[ 0.12700012, 0.12700012, 0.12700012, 0.12700012, 0.12700012, 0.12700012, 0.12700012, 0.12700012, 0.25400025, 0.25400025, 0.12700012, 0.12700012, 0.12700012, 0.12700012, 0.12700012, 0.12700012, 0.12700012, 0.12700012, 0.12700012, 0.12700012 ... (more) ]</code></span></summary><div><table><thead><tr></tr></thead><tbody><tr><td>IsDense</td><td><div class=\"dni-plaintext\"><pre>False</pre></div></td></tr><tr><td>Length</td><td><div class=\"dni-plaintext\"><pre>2202</pre></div></td></tr><tr><td><i>(values)</i></td><td><div class=\"dni-plaintext\"><pre>[ 0.12700012, 0.12700012, 0.12700012, 0.12700012, 0.12700012, 0.12700012, 0.12700012, 0.12700012, 0.25400025, 0.25400025, 0.12700012, 0.12700012, 0.12700012, 0.12700012, 0.12700012, 0.12700012, 0.12700012, 0.12700012, 0.12700012, 0.12700012 ... (more) ]</pre></div></td></tr></tbody></table></div></details></td></tr></tbody></table></div></details></td></tr><tr><td>4</td><td><details class=\"dni-treeview\"><summary><span class=\"dni-code-hint\"><code>[Features, Sparse vector of size 2202, 56 explicit values]</code></span></summary><div><table><thead><tr></tr></thead><tbody><tr><td>Key</td><td><div class=\"dni-plaintext\"><pre>Features</pre></div></td></tr><tr><td>Value</td><td><details class=\"dni-treeview\"><summary><span class=\"dni-code-hint\"><code>[ 0.12700012, 0.12700012, 0.12700012, 0.12700012, 0.12700012, 0.12700012, 0.12700012, 0.12700012, 0.25400025, 0.25400025, 0.12700012, 0.12700012, 0.12700012, 0.12700012, 0.12700012, 0.12700012, 0.12700012, 0.12700012, 0.12700012, 0.12700012 ... (more) ]</code></span></summary><div><table><thead><tr></tr></thead><tbody><tr><td>IsDense</td><td><div class=\"dni-plaintext\"><pre>False</pre></div></td></tr><tr><td>Length</td><td><div class=\"dni-plaintext\"><pre>2202</pre></div></td></tr><tr><td><i>(values)</i></td><td><div class=\"dni-plaintext\"><pre>[ 0.12700012, 0.12700012, 0.12700012, 0.12700012, 0.12700012, 0.12700012, 0.12700012, 0.12700012, 0.25400025, 0.25400025, 0.12700012, 0.12700012, 0.12700012, 0.12700012, 0.12700012, 0.12700012, 0.12700012, 0.12700012, 0.12700012, 0.12700012 ... (more) ]</pre></div></td></tr></tbody></table></div></details></td></tr></tbody></table></div></details></td></tr><tr><td>5</td><td><details class=\"dni-treeview\"><summary><span class=\"dni-code-hint\"><code>[PredictedLabel, 1]</code></span></summary><div><table><thead><tr></tr></thead><tbody><tr><td>Key</td><td><div class=\"dni-plaintext\"><pre>PredictedLabel</pre></div></td></tr><tr><td>Value</td><td><div class=\"dni-plaintext\"><pre>1</pre></div></td></tr></tbody></table></div></details></td></tr><tr><td>6</td><td><details class=\"dni-treeview\"><summary><span class=\"dni-code-hint\"><code>[PredictedLabel, area-System.Threading]</code></span></summary><div><table><thead><tr></tr></thead><tbody><tr><td>Key</td><td><div class=\"dni-plaintext\"><pre>PredictedLabel</pre></div></td></tr><tr><td>Value</td><td><span>area-System.Threading</span></td></tr></tbody></table></div></details></td></tr><tr><td>7</td><td><details class=\"dni-treeview\"><summary><span class=\"dni-code-hint\"><code>[Score, Dense vector of size 30]</code></span></summary><div><table><thead><tr></tr></thead><tbody><tr><td>Key</td><td><div class=\"dni-plaintext\"><pre>Score</pre></div></td></tr><tr><td>Value</td><td><details class=\"dni-treeview\"><summary><span class=\"dni-code-hint\"><code>[ 0.033333335, 0.033333335, 0.033333335, 0.033333335, 0.033333335, 0.033333335, 0.033333335, 0.033333335, 0.033333335, 0.033333335, 0.033333335, 0.033333335, 0.033333335, 0.033333335, 0.033333335, 0.033333335, 0.033333335, 0.033333335, 0.033333335, 0.033333335 ... (more) ]</code></span></summary><div><table><thead><tr></tr></thead><tbody><tr><td>IsDense</td><td><div class=\"dni-plaintext\"><pre>True</pre></div></td></tr><tr><td>Length</td><td><div class=\"dni-plaintext\"><pre>30</pre></div></td></tr><tr><td><i>(values)</i></td><td><div class=\"dni-plaintext\"><pre>[ 0.033333335, 0.033333335, 0.033333335, 0.033333335, 0.033333335, 0.033333335, 0.033333335, 0.033333335, 0.033333335, 0.033333335, 0.033333335, 0.033333335, 0.033333335, 0.033333335, 0.033333335, 0.033333335, 0.033333335, 0.033333335, 0.033333335, 0.033333335 ... (more) ]</pre></div></td></tr></tbody></table></div></details></td></tr></tbody></table></div></details></td></tr></tbody></table></td></tr></tbody></table></div></details></td></tr></tbody></table><style>\r\n",
       ".dni-code-hint {\r\n",
       "    font-style: italic;\r\n",
       "    overflow: hidden;\r\n",
       "    white-space: nowrap;\r\n",
       "}\r\n",
       ".dni-treeview {\r\n",
       "    white-space: nowrap;\r\n",
       "}\r\n",
       ".dni-treeview td {\r\n",
       "    vertical-align: top;\r\n",
       "    text-align: start;\r\n",
       "}\r\n",
       "details.dni-treeview {\r\n",
       "    padding-left: 1em;\r\n",
       "}\r\n",
       "table td {\r\n",
       "    text-align: start;\r\n",
       "}\r\n",
       "table tr { \r\n",
       "    vertical-align: top; \r\n",
       "    margin: 0em 0px;\r\n",
       "}\r\n",
       "table tr td pre \r\n",
       "{ \r\n",
       "    vertical-align: top !important; \r\n",
       "    margin: 0em 0px !important;\r\n",
       "} \r\n",
       "table th {\r\n",
       "    text-align: start;\r\n",
       "}\r\n",
       "</style>"
      ]
     },
     "metadata": {},
     "output_type": "display_data"
    }
   ],
   "source": [
    "predictions.Preview().RowView"
   ]
  },
  {
   "cell_type": "markdown",
   "metadata": {},
   "source": [
    "## Save the best model"
   ]
  },
  {
   "cell_type": "code",
   "execution_count": 19,
   "metadata": {
    "dotnet_interactive": {
     "language": "csharp"
    },
    "polyglot_notebook": {
     "kernelName": "csharp"
    },
    "vscode": {
     "languageId": "polyglot-notebook"
    }
   },
   "outputs": [],
   "source": [
    "ctx.Model.Save(bestModel, data.Schema, \"model.mlnet\");"
   ]
  }
 ],
 "metadata": {
  "kernelspec": {
   "display_name": ".NET (C#)",
   "language": "C#",
   "name": ".net-csharp"
  },
  "language_info": {
   "name": "csharp"
  },
  "orig_nbformat": 4,
  "polyglot_notebook": {
   "kernelInfo": {
    "defaultKernelName": "csharp",
    "items": [
     {
      "aliases": [],
      "name": "csharp"
     }
    ]
   }
  }
 },
 "nbformat": 4,
 "nbformat_minor": 2
}
