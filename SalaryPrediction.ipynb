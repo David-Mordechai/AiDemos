{
 "cells": [
  {
   "cell_type": "markdown",
   "metadata": {},
   "source": [
    "# Install Nuget's"
   ]
  },
  {
   "cell_type": "code",
   "execution_count": 1,
   "metadata": {
    "polyglot_notebook": {
     "kernelName": "csharp"
    }
   },
   "outputs": [
    {
     "data": {
      "text/html": [
       "<div><div></div><div></div><div><strong>Installed Packages</strong><ul><li><span>Microsoft.ML, 2.0.0</span></li></ul></div></div>"
      ]
     },
     "metadata": {},
     "output_type": "display_data"
    }
   ],
   "source": [
    "#r \"nuget: Microsoft.ML, 2.0.0\""
   ]
  },
  {
   "cell_type": "markdown",
   "metadata": {},
   "source": [
    "## Declare usings"
   ]
  },
  {
   "cell_type": "code",
   "execution_count": 2,
   "metadata": {
    "polyglot_notebook": {
     "kernelName": "csharp"
    }
   },
   "outputs": [],
   "source": [
    "using Microsoft.ML;\n",
    "using Microsoft.ML.Data;"
   ]
  },
  {
   "cell_type": "markdown",
   "metadata": {},
   "source": [
    "## Create Models"
   ]
  },
  {
   "cell_type": "code",
   "execution_count": 3,
   "metadata": {
    "polyglot_notebook": {
     "kernelName": "csharp"
    }
   },
   "outputs": [],
   "source": [
    "public class SalaryData\n",
    "{\n",
    "    [LoadColumn(0)]\n",
    "    public float Experience { get; set; }\n",
    "\n",
    "    [LoadColumn(1)]\n",
    "    public string EducationLevel { get; set; }\n",
    "\n",
    "    [LoadColumn(2)]\n",
    "    public string JobTitle { get; set; }\n",
    "\n",
    "    [LoadColumn(3)]\n",
    "    public float Salary { get; set; }\n",
    "}\n",
    "\n",
    "public class SalaryPrediction\n",
    "{\n",
    "    [ColumnName(\"Score\")]\n",
    "    public float Salary { get; set; }\n",
    "}"
   ]
  },
  {
   "cell_type": "markdown",
   "metadata": {},
   "source": [
    "## Declare ML Context"
   ]
  },
  {
   "cell_type": "code",
   "execution_count": 4,
   "metadata": {
    "polyglot_notebook": {
     "kernelName": "csharp"
    }
   },
   "outputs": [],
   "source": [
    "var mlContext = new MLContext();"
   ]
  },
  {
   "cell_type": "markdown",
   "metadata": {},
   "source": [
    "## Traning Data"
   ]
  },
  {
   "cell_type": "code",
   "execution_count": 5,
   "metadata": {
    "polyglot_notebook": {
     "kernelName": "csharp"
    }
   },
   "outputs": [],
   "source": [
    "var data = mlContext.Data.LoadFromTextFile<SalaryData>(path: \"salary_data.csv\", hasHeader: true, separatorChar: ',');"
   ]
  },
  {
   "cell_type": "markdown",
   "metadata": {},
   "source": [
    "## Create and train prediction engine"
   ]
  },
  {
   "cell_type": "code",
   "execution_count": 6,
   "metadata": {
    "polyglot_notebook": {
     "kernelName": "csharp"
    }
   },
   "outputs": [],
   "source": [
    "// Define pipeline\n",
    "var pipeline = mlContext.Transforms.Categorical.OneHotEncoding(new[]\n",
    "    {\n",
    "        new InputOutputColumnPair(\"EducationLevel\"),\n",
    "        new InputOutputColumnPair(\"JobTitle\")\n",
    "    })\n",
    "    .Append(mlContext.Transforms.Concatenate(\"Features\", \"Experience\", \"EducationLevel\", \"JobTitle\"))\n",
    "    .Append(mlContext.Regression.Trainers.Sdca(labelColumnName: \"Salary\", maximumNumberOfIterations: 100));\n",
    "\n",
    "// Train\n",
    "var model = pipeline.Fit(data);\n",
    "\n",
    "// Prediction\n",
    "var predictionEngine = mlContext.Model.CreatePredictionEngine<SalaryData, SalaryPrediction>(model);"
   ]
  },
  {
   "cell_type": "markdown",
   "metadata": {},
   "source": [
    "## Test the prediction engine"
   ]
  },
  {
   "cell_type": "code",
   "execution_count": 8,
   "metadata": {
    "polyglot_notebook": {
     "kernelName": "csharp"
    }
   },
   "outputs": [
    {
     "name": "stdout",
     "output_type": "stream",
     "text": [
      "Predicted Salary for Software Engineer With 2 years of Experience: 62193.57$\n",
      "Predicted Salary for Data Scientist With 4 years of Experience: 89980.55$\n",
      "Predicted Salary for Research Scientist With 6 years of Experience: 114855.91$\n"
     ]
    }
   ],
   "source": [
    "var testData = new List<SalaryData>\n",
    "{\n",
    "    new SalaryData { Experience = 2, EducationLevel = \"Bachelor\", JobTitle = \"Software Engineer\" },\n",
    "    new SalaryData { Experience = 4, EducationLevel = \"Master\", JobTitle = \"Data Scientist\" },\n",
    "    new SalaryData { Experience = 6, EducationLevel = \"PhD\", JobTitle = \"Research Scientist\" }\n",
    "};\n",
    "\n",
    "foreach (var sample in testData)\n",
    "{\n",
    "    var prediction = predictionEngine.Predict(sample);\n",
    "    Console.WriteLine($\"Predicted Salary for {sample.JobTitle} With {sample.Experience} years of Experience: {prediction.Salary}$\");\n",
    "}"
   ]
  }
 ],
 "metadata": {
  "kernelspec": {
   "display_name": ".NET (C#)",
   "language": "C#",
   "name": ".net-csharp"
  },
  "polyglot_notebook": {
   "kernelInfo": {
    "defaultKernelName": "csharp",
    "items": [
     {
      "aliases": [],
      "languageName": "csharp",
      "name": "csharp"
     }
    ]
   }
  }
 },
 "nbformat": 4,
 "nbformat_minor": 2
}
